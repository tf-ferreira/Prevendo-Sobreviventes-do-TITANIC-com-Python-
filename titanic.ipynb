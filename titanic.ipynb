{
 "cells": [
  {
   "metadata": {},
   "cell_type": "markdown",
   "source": [
    "# TIATNIC\n",
    "---\n",
    "Competição do Kaggle sobre dados do Titanic disponível em:</br>\n",
    "https://www.kaggle.com/competitions/titanic/data</br>\n",
    "</br>\n",
    "São dispostas diversas informações individualizadas sobre cada passageiro do navio</br>\n",
    "com o intiuito de predizer quem sobreviveu ou não à trajédia que envolveu o navio.</br>\n",
    "</br>\n",
    "São oferecidos dois conjuntos de dados, um de treino que além das informações de cada</br>\n",
    "passageiro, contém como resposta a informação dos sobreviventes.</br>\n",
    "O outro conjunto é tomado como teste e contém as mesmas informações dos passageiros que</br>\n",
    "o anterior mas não contém a classificação dos sobreviventes.</br>\n",
    "</br>\n",
    "O objetivo é estabelecer, utilizando a base de treino como auxílio, a resposta para a base</br>\n",
    "de teste e enviar um csv contendo apenas os ids e a resposta sobre a sobrevivência como um dado binário.\n",
    "\n",
    "---\n",
    "## 1) IMPORTAÇÃO DAS BIBLIOTECAS UTILIZADAS\n",
    "---"
   ],
   "id": "3f20a76a187ad677"
  },
  {
   "metadata": {},
   "cell_type": "markdown",
   "source": "Antes de iniciar, os Warnings serão omitidos contibuindo na visualização.",
   "id": "dd00c52f4f8265c2"
  },
  {
   "metadata": {
    "ExecuteTime": {
     "end_time": "2025-07-16T01:28:03.585740Z",
     "start_time": "2025-07-16T01:28:03.582423Z"
    }
   },
   "cell_type": "code",
   "source": [
    "import warnings\n",
    "warnings.filterwarnings('ignore')"
   ],
   "id": "d0f61cee49905d43",
   "outputs": [],
   "execution_count": 90
  },
  {
   "metadata": {},
   "cell_type": "markdown",
   "source": "Bloco contendo todas as importações para falitar o acompanhamento e padronização.",
   "id": "1429f133190da0b8"
  },
  {
   "cell_type": "code",
   "id": "initial_id",
   "metadata": {
    "collapsed": true,
    "ExecuteTime": {
     "end_time": "2025-07-16T01:28:03.658157Z",
     "start_time": "2025-07-16T01:28:03.653795Z"
    }
   },
   "source": [
    "import pandas as pd                                         # Manuseio dos DataFrames\n",
    "from ydata_profiling import ProfileReport                   # Relatório automático para compreensão dos dados\n",
    "from sklearn.model_selection import train_test_split        # Separação de uma base em treino e teste\n",
    "from sklearn import tree                                    # Árvore de decisão\n",
    "from sklearn.neighbors import KNeighborsClassifier          # KNN\n",
    "from sklearn.linear_model import LogisticRegression         # Regressão logística\n",
    "from sklearn.metrics import accuracy_score                  # Acurácia\n",
    "from sklearn.metrics import confusion_matrix                # Matriz de confusão\n",
    "import matplotlib.pyplot as plt                             # Biblioteca gráffica\n",
    "from sklearn.preprocessing import RobustScaler              # Ajustar escala para o BoxPlot\n",
    "import seaborn as sns                                       # Biblioteca gráffica\n",
    "from sklearn.ensemble import RandomForestClassifier         # Random Forest\n",
    "from sklearn.neural_network import MLPClassifier            # MLP\n",
    "from datetime import datetime                               # Biblioteca para contar o tempo\n",
    "from sklearn.model_selection import KFold                   # KFold\n",
    "from sklearn.model_selection import GridSearchCV            # Grid Search"
   ],
   "outputs": [],
   "execution_count": 91
  },
  {
   "metadata": {},
   "cell_type": "markdown",
   "source": [
    "## 2) ENTENDENDO OS DADOS\n",
    "---\n",
    "Antes de qualquer tratamento, é necessário compreender melhor os dados que estão</br>\n",
    "sendo oferecidos e aí então a trajetória ficará mais clara.\n",
    "### Leitura dos dados"
   ],
   "id": "cc254ece1c12376e"
  },
  {
   "metadata": {
    "ExecuteTime": {
     "end_time": "2025-07-16T01:28:03.721555Z",
     "start_time": "2025-07-16T01:28:03.706530Z"
    }
   },
   "cell_type": "code",
   "source": [
    "test = pd.read_csv('DATA/test.csv', sep=',',  on_bad_lines='skip')\n",
    "train = pd.read_csv('DATA/train.csv', sep=',',  on_bad_lines='skip')\n",
    "train.head(1)"
   ],
   "id": "afd6dfdac7165b1d",
   "outputs": [
    {
     "data": {
      "text/plain": [
       "   PassengerId  Survived  Pclass                     Name   Sex   Age  SibSp  \\\n",
       "0            1         0       3  Braund, Mr. Owen Harris  male  22.0      1   \n",
       "\n",
       "   Parch     Ticket  Fare Cabin Embarked  \n",
       "0      0  A/5 21171  7.25   NaN        S  "
      ],
      "text/html": [
       "<div>\n",
       "<style scoped>\n",
       "    .dataframe tbody tr th:only-of-type {\n",
       "        vertical-align: middle;\n",
       "    }\n",
       "\n",
       "    .dataframe tbody tr th {\n",
       "        vertical-align: top;\n",
       "    }\n",
       "\n",
       "    .dataframe thead th {\n",
       "        text-align: right;\n",
       "    }\n",
       "</style>\n",
       "<table border=\"1\" class=\"dataframe\">\n",
       "  <thead>\n",
       "    <tr style=\"text-align: right;\">\n",
       "      <th></th>\n",
       "      <th>PassengerId</th>\n",
       "      <th>Survived</th>\n",
       "      <th>Pclass</th>\n",
       "      <th>Name</th>\n",
       "      <th>Sex</th>\n",
       "      <th>Age</th>\n",
       "      <th>SibSp</th>\n",
       "      <th>Parch</th>\n",
       "      <th>Ticket</th>\n",
       "      <th>Fare</th>\n",
       "      <th>Cabin</th>\n",
       "      <th>Embarked</th>\n",
       "    </tr>\n",
       "  </thead>\n",
       "  <tbody>\n",
       "    <tr>\n",
       "      <th>0</th>\n",
       "      <td>1</td>\n",
       "      <td>0</td>\n",
       "      <td>3</td>\n",
       "      <td>Braund, Mr. Owen Harris</td>\n",
       "      <td>male</td>\n",
       "      <td>22.0</td>\n",
       "      <td>1</td>\n",
       "      <td>0</td>\n",
       "      <td>A/5 21171</td>\n",
       "      <td>7.25</td>\n",
       "      <td>NaN</td>\n",
       "      <td>S</td>\n",
       "    </tr>\n",
       "  </tbody>\n",
       "</table>\n",
       "</div>"
      ]
     },
     "execution_count": 92,
     "metadata": {},
     "output_type": "execute_result"
    }
   ],
   "execution_count": 92
  },
  {
   "metadata": {},
   "cell_type": "markdown",
   "source": [
    "### Produção de um relatório em Html para facilitar a compreensão da base de dados\n",
    "O ProfileReport cria, facilmente, um relatório dos dados e o exporta em html.</br>\n",
    "Isso é muito importante para a compreensão do conjunto e visualização dos dados."
   ],
   "id": "c058f9cf7ccb2751"
  },
  {
   "metadata": {
    "ExecuteTime": {
     "end_time": "2025-07-16T01:28:10.236386Z",
     "start_time": "2025-07-16T01:28:03.804897Z"
    }
   },
   "cell_type": "code",
   "source": [
    "profile = ProfileReport(train, title='Relatório de Perfil - Titanic')\n",
    "profile.to_file(\"relatorio_titanic.html\")"
   ],
   "id": "ce95b6b27251bfd7",
   "outputs": [
    {
     "data": {
      "text/plain": [
       "Summarize dataset:   0%|          | 0/5 [00:00<?, ?it/s]"
      ],
      "application/vnd.jupyter.widget-view+json": {
       "version_major": 2,
       "version_minor": 0,
       "model_id": "979cf6ec1df84b63808a27654f7467ce"
      }
     },
     "metadata": {},
     "output_type": "display_data"
    },
    {
     "name": "stderr",
     "output_type": "stream",
     "text": [
      "\n",
      "100%|██████████| 12/12 [00:00<00:00, 382.76it/s]\n"
     ]
    },
    {
     "data": {
      "text/plain": [
       "Generate report structure:   0%|          | 0/1 [00:00<?, ?it/s]"
      ],
      "application/vnd.jupyter.widget-view+json": {
       "version_major": 2,
       "version_minor": 0,
       "model_id": "ba7c04aeddaa4196b134af4f684f0a22"
      }
     },
     "metadata": {},
     "output_type": "display_data"
    },
    {
     "data": {
      "text/plain": [
       "Render HTML:   0%|          | 0/1 [00:00<?, ?it/s]"
      ],
      "application/vnd.jupyter.widget-view+json": {
       "version_major": 2,
       "version_minor": 0,
       "model_id": "597e3d37beca49f4a2c60f637c632304"
      }
     },
     "metadata": {},
     "output_type": "display_data"
    },
    {
     "data": {
      "text/plain": [
       "Export report to file:   0%|          | 0/1 [00:00<?, ?it/s]"
      ],
      "application/vnd.jupyter.widget-view+json": {
       "version_major": 2,
       "version_minor": 0,
       "model_id": "bef5c7033a57491c887be29a1ce9db15"
      }
     },
     "metadata": {},
     "output_type": "display_data"
    }
   ],
   "execution_count": 93
  },
  {
   "metadata": {},
   "cell_type": "markdown",
   "source": [
    "### Observações gerais e complementares\n",
    "Após a observação do relatório e uma primeira visão mais a fundo dos dados</br>\n",
    "algumas verificações são necessárias, como:\n",
    "* tipo dos dados;\n",
    "* Dados nulos;\n",
    "* Comparação entre as bases;"
   ],
   "id": "c991a00a47925b3e"
  },
  {
   "metadata": {
    "ExecuteTime": {
     "end_time": "2025-07-16T01:28:10.299883Z",
     "start_time": "2025-07-16T01:28:10.293929Z"
    }
   },
   "cell_type": "code",
   "source": "train.info()",
   "id": "8a0534d38fcefe07",
   "outputs": [
    {
     "name": "stdout",
     "output_type": "stream",
     "text": [
      "<class 'pandas.core.frame.DataFrame'>\n",
      "RangeIndex: 891 entries, 0 to 890\n",
      "Data columns (total 12 columns):\n",
      " #   Column       Non-Null Count  Dtype  \n",
      "---  ------       --------------  -----  \n",
      " 0   PassengerId  891 non-null    int64  \n",
      " 1   Survived     891 non-null    int64  \n",
      " 2   Pclass       891 non-null    int64  \n",
      " 3   Name         891 non-null    object \n",
      " 4   Sex          891 non-null    object \n",
      " 5   Age          714 non-null    float64\n",
      " 6   SibSp        891 non-null    int64  \n",
      " 7   Parch        891 non-null    int64  \n",
      " 8   Ticket       891 non-null    object \n",
      " 9   Fare         891 non-null    float64\n",
      " 10  Cabin        204 non-null    object \n",
      " 11  Embarked     889 non-null    object \n",
      "dtypes: float64(2), int64(5), object(5)\n",
      "memory usage: 83.7+ KB\n"
     ]
    }
   ],
   "execution_count": 94
  },
  {
   "metadata": {
    "ExecuteTime": {
     "end_time": "2025-07-16T01:28:10.414458Z",
     "start_time": "2025-07-16T01:28:10.408275Z"
    }
   },
   "cell_type": "code",
   "source": "train.dtypes.value_counts()",
   "id": "e1e8ed23ee1bcfe8",
   "outputs": [
    {
     "data": {
      "text/plain": [
       "int64      5\n",
       "object     5\n",
       "float64    2\n",
       "Name: count, dtype: int64"
      ]
     },
     "execution_count": 95,
     "metadata": {},
     "output_type": "execute_result"
    }
   ],
   "execution_count": 95
  },
  {
   "metadata": {
    "ExecuteTime": {
     "end_time": "2025-07-16T01:28:10.526961Z",
     "start_time": "2025-07-16T01:28:10.520697Z"
    }
   },
   "cell_type": "code",
   "source": "test.info()",
   "id": "4446db72d3bfa98d",
   "outputs": [
    {
     "name": "stdout",
     "output_type": "stream",
     "text": [
      "<class 'pandas.core.frame.DataFrame'>\n",
      "RangeIndex: 418 entries, 0 to 417\n",
      "Data columns (total 11 columns):\n",
      " #   Column       Non-Null Count  Dtype  \n",
      "---  ------       --------------  -----  \n",
      " 0   PassengerId  418 non-null    int64  \n",
      " 1   Pclass       418 non-null    int64  \n",
      " 2   Name         418 non-null    object \n",
      " 3   Sex          418 non-null    object \n",
      " 4   Age          332 non-null    float64\n",
      " 5   SibSp        418 non-null    int64  \n",
      " 6   Parch        418 non-null    int64  \n",
      " 7   Ticket       418 non-null    object \n",
      " 8   Fare         417 non-null    float64\n",
      " 9   Cabin        91 non-null     object \n",
      " 10  Embarked     418 non-null    object \n",
      "dtypes: float64(2), int64(4), object(5)\n",
      "memory usage: 36.1+ KB\n"
     ]
    }
   ],
   "execution_count": 96
  },
  {
   "metadata": {
    "ExecuteTime": {
     "end_time": "2025-07-16T01:28:10.679128Z",
     "start_time": "2025-07-16T01:28:10.674626Z"
    }
   },
   "cell_type": "code",
   "source": "test.dtypes.value_counts()",
   "id": "cfe77ee2cb528827",
   "outputs": [
    {
     "data": {
      "text/plain": [
       "object     5\n",
       "int64      4\n",
       "float64    2\n",
       "Name: count, dtype: int64"
      ]
     },
     "execution_count": 97,
     "metadata": {},
     "output_type": "execute_result"
    }
   ],
   "execution_count": 97
  },
  {
   "metadata": {},
   "cell_type": "markdown",
   "source": [
    "As bases de treino e teste são iguais no tipo dos dados<br>\n",
    "As variáveis Name, Sex, Ticket, Cabin e Embarked são do tipo object.<br>\n",
    "Então estas variáveis precisarão ser observadas e tratadas</br>\n",
    "</br>\n",
    "Já é possível notar que existem valores nulos.\n",
    "### Valores nulos"
   ],
   "id": "3f30e341ac3ad600"
  },
  {
   "metadata": {
    "ExecuteTime": {
     "end_time": "2025-07-16T01:28:10.845839Z",
     "start_time": "2025-07-16T01:28:10.839284Z"
    }
   },
   "cell_type": "code",
   "source": "train.isnull().sum().sort_values(ascending=False)",
   "id": "5e0eeb611c1d821d",
   "outputs": [
    {
     "data": {
      "text/plain": [
       "Cabin          687\n",
       "Age            177\n",
       "Embarked         2\n",
       "PassengerId      0\n",
       "Name             0\n",
       "Pclass           0\n",
       "Survived         0\n",
       "Sex              0\n",
       "Parch            0\n",
       "SibSp            0\n",
       "Fare             0\n",
       "Ticket           0\n",
       "dtype: int64"
      ]
     },
     "execution_count": 98,
     "metadata": {},
     "output_type": "execute_result"
    }
   ],
   "execution_count": 98
  },
  {
   "metadata": {
    "ExecuteTime": {
     "end_time": "2025-07-16T01:28:11.140386Z",
     "start_time": "2025-07-16T01:28:11.134743Z"
    }
   },
   "cell_type": "code",
   "source": "test.isnull().sum().sort_values(ascending=False)",
   "id": "f13f4b8d0cfc52e0",
   "outputs": [
    {
     "data": {
      "text/plain": [
       "Cabin          327\n",
       "Age             86\n",
       "Fare             1\n",
       "Name             0\n",
       "Pclass           0\n",
       "PassengerId      0\n",
       "Sex              0\n",
       "Parch            0\n",
       "SibSp            0\n",
       "Ticket           0\n",
       "Embarked         0\n",
       "dtype: int64"
      ]
     },
     "execution_count": 99,
     "metadata": {},
     "output_type": "execute_result"
    }
   ],
   "execution_count": 99
  },
  {
   "metadata": {},
   "cell_type": "markdown",
   "source": [
    "Tanto na base de treino como na base de teste <br>\n",
    "existe um grande número de valores nulos na variável Cabin.<br>\n",
    "Logo, este fato implicará em sua exclusão.</br>\n",
    "</br>\n",
    "Tanto Age quanto Fare, em ambas as bases terão os valores nulos substituídos pela sua média.</br>\n",
    "<br>\n",
    "Embarked na base de treino terá substituído os valores nulos pela moda.\n",
    "## 3) TRATAMENTOS INICIAIS\n",
    "---\n",
    "### Cardinalidade dos dados\n",
    "Dados com alta cardinalidade não coreespondem bem à buscas por padões."
   ],
   "id": "c41e521c52bb065f"
  },
  {
   "metadata": {
    "ExecuteTime": {
     "end_time": "2025-07-16T01:28:11.339520Z",
     "start_time": "2025-07-16T01:28:11.331150Z"
    }
   },
   "cell_type": "code",
   "source": "train.nunique().sort_values(ascending=False)",
   "id": "81cf3e9a2dc84255",
   "outputs": [
    {
     "data": {
      "text/plain": [
       "PassengerId    891\n",
       "Name           891\n",
       "Ticket         681\n",
       "Fare           248\n",
       "Cabin          147\n",
       "Age             88\n",
       "SibSp            7\n",
       "Parch            7\n",
       "Embarked         3\n",
       "Pclass           3\n",
       "Survived         2\n",
       "Sex              2\n",
       "dtype: int64"
      ]
     },
     "execution_count": 100,
     "metadata": {},
     "output_type": "execute_result"
    }
   ],
   "execution_count": 100
  },
  {
   "metadata": {
    "ExecuteTime": {
     "end_time": "2025-07-16T01:28:11.546901Z",
     "start_time": "2025-07-16T01:28:11.540457Z"
    }
   },
   "cell_type": "code",
   "source": "test.nunique().sort_values(ascending=False)",
   "id": "c5e94252bda59563",
   "outputs": [
    {
     "data": {
      "text/plain": [
       "PassengerId    418\n",
       "Name           418\n",
       "Ticket         363\n",
       "Fare           169\n",
       "Age             79\n",
       "Cabin           76\n",
       "Parch            8\n",
       "SibSp            7\n",
       "Pclass           3\n",
       "Embarked         3\n",
       "Sex              2\n",
       "dtype: int64"
      ]
     },
     "execution_count": 101,
     "metadata": {},
     "output_type": "execute_result"
    }
   ],
   "execution_count": 101
  },
  {
   "metadata": {},
   "cell_type": "markdown",
   "source": [
    "O PassengerId não será considerado nas predições.</br>\n",
    "Apenas será mantido na base de teste para o envio para o Kaggle.</br>\n",
    "</br>\n",
    "A variável Name possui um valor diferente para cada passageiro.</br>\n",
    "Como nome é realmente único ou sem conexão quando igual, esta poderá ser excluída.</br>\n",
    "</br>\n",
    "Ticket possui alta cardinalidade e nenhum agrupamento possível, logo será descartado.</br>\n",
    "</br>\n",
    "Fare e Age poderão ser repensados para representar melhor o modelo.</br>\n",
    "</br>\n",
    "Cabin já possui alto número de nulos, junto com a alta cardinalidade será desconsiderada."
   ],
   "id": "d1bd5fa63ae90501"
  },
  {
   "metadata": {
    "ExecuteTime": {
     "end_time": "2025-07-16T01:28:11.738948Z",
     "start_time": "2025-07-16T01:28:11.734771Z"
    }
   },
   "cell_type": "code",
   "source": [
    "train = train.drop(['PassengerId', 'Name', 'Ticket', 'Cabin'], axis = 1)\n",
    "test = test.drop(['Name', 'Ticket', 'Cabin'], axis = 1)"
   ],
   "id": "d67f921d2a2b5f24",
   "outputs": [],
   "execution_count": 102
  },
  {
   "metadata": {
    "ExecuteTime": {
     "end_time": "2025-07-16T01:28:11.912677Z",
     "start_time": "2025-07-16T01:28:11.905883Z"
    }
   },
   "cell_type": "code",
   "source": "train.head(1)",
   "id": "a250e642dc910a7a",
   "outputs": [
    {
     "data": {
      "text/plain": [
       "   Survived  Pclass   Sex   Age  SibSp  Parch  Fare Embarked\n",
       "0         0       3  male  22.0      1      0  7.25        S"
      ],
      "text/html": [
       "<div>\n",
       "<style scoped>\n",
       "    .dataframe tbody tr th:only-of-type {\n",
       "        vertical-align: middle;\n",
       "    }\n",
       "\n",
       "    .dataframe tbody tr th {\n",
       "        vertical-align: top;\n",
       "    }\n",
       "\n",
       "    .dataframe thead th {\n",
       "        text-align: right;\n",
       "    }\n",
       "</style>\n",
       "<table border=\"1\" class=\"dataframe\">\n",
       "  <thead>\n",
       "    <tr style=\"text-align: right;\">\n",
       "      <th></th>\n",
       "      <th>Survived</th>\n",
       "      <th>Pclass</th>\n",
       "      <th>Sex</th>\n",
       "      <th>Age</th>\n",
       "      <th>SibSp</th>\n",
       "      <th>Parch</th>\n",
       "      <th>Fare</th>\n",
       "      <th>Embarked</th>\n",
       "    </tr>\n",
       "  </thead>\n",
       "  <tbody>\n",
       "    <tr>\n",
       "      <th>0</th>\n",
       "      <td>0</td>\n",
       "      <td>3</td>\n",
       "      <td>male</td>\n",
       "      <td>22.0</td>\n",
       "      <td>1</td>\n",
       "      <td>0</td>\n",
       "      <td>7.25</td>\n",
       "      <td>S</td>\n",
       "    </tr>\n",
       "  </tbody>\n",
       "</table>\n",
       "</div>"
      ]
     },
     "execution_count": 103,
     "metadata": {},
     "output_type": "execute_result"
    }
   ],
   "execution_count": 103
  },
  {
   "metadata": {},
   "cell_type": "markdown",
   "source": [
    "### Dados nulos\n",
    "Tratamento dos dados nulos já observados.<br>\n",
    "<br>\n",
    "**Idade**<br>\n",
    "Os valores nuos da idade seráo substituídos pela média do valor.<br>\n",
    "Ambas as bases possuem valores nulos que serão tratados da mesma maneira."
   ],
   "id": "6baaea52a8dc7b30"
  },
  {
   "metadata": {
    "ExecuteTime": {
     "end_time": "2025-07-16T01:28:12.023868Z",
     "start_time": "2025-07-16T01:28:12.019812Z"
    }
   },
   "cell_type": "code",
   "source": "train.Age.mean()",
   "id": "8444876723ebd3ca",
   "outputs": [
    {
     "data": {
      "text/plain": [
       "np.float64(29.69911764705882)"
      ]
     },
     "execution_count": 104,
     "metadata": {},
     "output_type": "execute_result"
    }
   ],
   "execution_count": 104
  },
  {
   "metadata": {
    "ExecuteTime": {
     "end_time": "2025-07-16T01:28:12.219049Z",
     "start_time": "2025-07-16T01:28:12.214622Z"
    }
   },
   "cell_type": "code",
   "source": [
    "train.loc[train.Age.isnull(), 'Age'] = train.Age.mean()\n",
    "test.loc[test.Age.isnull(), 'Age'] = test.Age.mean()"
   ],
   "id": "b4df62e2325b2b94",
   "outputs": [],
   "execution_count": 105
  },
  {
   "metadata": {},
   "cell_type": "markdown",
   "source": [
    "**Embarked** <br>\n",
    "Os valores nulos em embarked serão substituídos pela moda.<br>\n",
    "Apenas a base de treino possuí nulo nesta variável."
   ],
   "id": "b8d85c4bc2939986"
  },
  {
   "metadata": {
    "ExecuteTime": {
     "end_time": "2025-07-16T01:28:12.341824Z",
     "start_time": "2025-07-16T01:28:12.337373Z"
    }
   },
   "cell_type": "code",
   "source": "train.Embarked.mode()",
   "id": "f48d0a2737694c55",
   "outputs": [
    {
     "data": {
      "text/plain": [
       "0    S\n",
       "Name: Embarked, dtype: object"
      ]
     },
     "execution_count": 106,
     "metadata": {},
     "output_type": "execute_result"
    }
   ],
   "execution_count": 106
  },
  {
   "metadata": {
    "ExecuteTime": {
     "end_time": "2025-07-16T01:28:12.437815Z",
     "start_time": "2025-07-16T01:28:12.433915Z"
    }
   },
   "cell_type": "code",
   "source": "train.loc[train.Embarked.isnull(), 'Embarked'] = train.Embarked.mode()[0]",
   "id": "4bd4c2e4d6943523",
   "outputs": [],
   "execution_count": 107
  },
  {
   "metadata": {},
   "cell_type": "markdown",
   "source": [
    "**Fare**<br>\n",
    "Os valores nulo em Fare seráo substituídos pela média.<br>\n",
    "Somente a base de teste possuí nulos nesta variável."
   ],
   "id": "91e9a2a537aada80"
  },
  {
   "metadata": {
    "ExecuteTime": {
     "end_time": "2025-07-16T01:28:12.561030Z",
     "start_time": "2025-07-16T01:28:12.556079Z"
    }
   },
   "cell_type": "code",
   "source": "test.Fare.mean()",
   "id": "4417b71c3bd2d6bb",
   "outputs": [
    {
     "data": {
      "text/plain": [
       "np.float64(35.627188489208635)"
      ]
     },
     "execution_count": 108,
     "metadata": {},
     "output_type": "execute_result"
    }
   ],
   "execution_count": 108
  },
  {
   "metadata": {
    "ExecuteTime": {
     "end_time": "2025-07-16T01:28:12.648702Z",
     "start_time": "2025-07-16T01:28:12.642990Z"
    }
   },
   "cell_type": "code",
   "source": "test.loc[test.Fare.isnull(), 'Fare'] = test.Fare.mean()",
   "id": "a1851be33d747a19",
   "outputs": [],
   "execution_count": 109
  },
  {
   "metadata": {},
   "cell_type": "markdown",
   "source": "#### Conferindo se os dados foram tratados",
   "id": "386a5b700e17927c"
  },
  {
   "metadata": {
    "ExecuteTime": {
     "end_time": "2025-07-16T01:28:12.702183Z",
     "start_time": "2025-07-16T01:28:12.696782Z"
    }
   },
   "cell_type": "code",
   "source": "train.isnull().sum().sort_values(ascending=False)",
   "id": "c6371669acca5ca6",
   "outputs": [
    {
     "data": {
      "text/plain": [
       "Survived    0\n",
       "Pclass      0\n",
       "Sex         0\n",
       "Age         0\n",
       "SibSp       0\n",
       "Parch       0\n",
       "Fare        0\n",
       "Embarked    0\n",
       "dtype: int64"
      ]
     },
     "execution_count": 110,
     "metadata": {},
     "output_type": "execute_result"
    }
   ],
   "execution_count": 110
  },
  {
   "metadata": {
    "ExecuteTime": {
     "end_time": "2025-07-16T01:28:12.776392Z",
     "start_time": "2025-07-16T01:28:12.770074Z"
    }
   },
   "cell_type": "code",
   "source": "test.isnull().sum().sort_values(ascending=False)",
   "id": "6b015aabe7669090",
   "outputs": [
    {
     "data": {
      "text/plain": [
       "PassengerId    0\n",
       "Pclass         0\n",
       "Sex            0\n",
       "Age            0\n",
       "SibSp          0\n",
       "Parch          0\n",
       "Fare           0\n",
       "Embarked       0\n",
       "dtype: int64"
      ]
     },
     "execution_count": 111,
     "metadata": {},
     "output_type": "execute_result"
    }
   ],
   "execution_count": 111
  },
  {
   "metadata": {},
   "cell_type": "markdown",
   "source": [
    "## 4) Aplicação de modelos nos dados numéricos\n",
    "---\n",
    "Um subconjunto será criado contendo apenas os dados numéricos.<br>\n",
    "Assim, Árvore de decisão, Knn e Regressão Logística poderão ser aplicadas neste conjunto."
   ],
   "id": "2bbbcd6bfeac467e"
  },
  {
   "metadata": {
    "ExecuteTime": {
     "end_time": "2025-07-16T01:28:12.951276Z",
     "start_time": "2025-07-16T01:28:12.946432Z"
    }
   },
   "cell_type": "code",
   "source": [
    "train_nr = train.loc[:, train.columns[train.dtypes != 'object']]\n",
    "test_nr = test.loc[:, test.columns[test.dtypes != 'object']]"
   ],
   "id": "c69545704c4f0557",
   "outputs": [],
   "execution_count": 112
  },
  {
   "metadata": {},
   "cell_type": "markdown",
   "source": [
    "Criação do conjunto X e y, sendo X os dados de treino sem o Survived e y, como resposta, o Survived.<br>\n",
    "Em seguida, separação dos grupos de treino e validação para a base de treino."
   ],
   "id": "60b3a6f242a40b14"
  },
  {
   "metadata": {
    "ExecuteTime": {
     "end_time": "2025-07-16T01:28:13.097493Z",
     "start_time": "2025-07-16T01:28:13.093975Z"
    }
   },
   "cell_type": "code",
   "source": [
    "X = train_nr.drop(['Survived'], axis = 1)\n",
    "y = train.Survived"
   ],
   "id": "397d98f1f5efcb7f",
   "outputs": [],
   "execution_count": 113
  },
  {
   "metadata": {
    "ExecuteTime": {
     "end_time": "2025-07-16T01:28:13.190694Z",
     "start_time": "2025-07-16T01:28:13.185711Z"
    }
   },
   "cell_type": "code",
   "source": "X_train, X_val, y_train, y_val = train_test_split(X, y, test_size=0.33, random_state=42)",
   "id": "bd315500bff05889",
   "outputs": [],
   "execution_count": 114
  },
  {
   "metadata": {},
   "cell_type": "markdown",
   "source": "### Árevore de classificação",
   "id": "e597916df193ccc7"
  },
  {
   "metadata": {
    "ExecuteTime": {
     "end_time": "2025-07-16T01:28:13.224664Z",
     "start_time": "2025-07-16T01:28:13.216572Z"
    }
   },
   "cell_type": "code",
   "source": [
    "clf_tree = tree.DecisionTreeClassifier(random_state = 42)\n",
    "clf_tree = clf_tree.fit(X_train, y_train)\n",
    "pred_tree = clf_tree.predict(X_val)"
   ],
   "id": "dbf7c97c101a271f",
   "outputs": [],
   "execution_count": 115
  },
  {
   "metadata": {},
   "cell_type": "markdown",
   "source": "### KNN",
   "id": "74e681d08578e3e5"
  },
  {
   "metadata": {
    "ExecuteTime": {
     "end_time": "2025-07-16T01:28:13.302161Z",
     "start_time": "2025-07-16T01:28:13.286740Z"
    }
   },
   "cell_type": "code",
   "source": [
    "clf_knn = KNeighborsClassifier(n_neighbors=5)\n",
    "clf_knn = clf_knn.fit(X_train, y_train)\n",
    "pred_knn = clf_knn.predict(X_val)"
   ],
   "id": "1ef9fbc22b102234",
   "outputs": [],
   "execution_count": 116
  },
  {
   "metadata": {},
   "cell_type": "markdown",
   "source": "### Regressão logística",
   "id": "3f68798218638230"
  },
  {
   "metadata": {
    "ExecuteTime": {
     "end_time": "2025-07-16T01:28:13.374076Z",
     "start_time": "2025-07-16T01:28:13.355086Z"
    }
   },
   "cell_type": "code",
   "source": [
    "clf_rl = LogisticRegression(random_state=42)\n",
    "clf_rl = clf_rl.fit(X_train, y_train)\n",
    "pred_log = clf_rl.predict(X_val)"
   ],
   "id": "aa8eb822502d8ad3",
   "outputs": [],
   "execution_count": 117
  },
  {
   "metadata": {},
   "cell_type": "markdown",
   "source": "### Acurácia",
   "id": "2c5833d660237386"
  },
  {
   "metadata": {
    "ExecuteTime": {
     "end_time": "2025-07-16T01:28:13.418814Z",
     "start_time": "2025-07-16T01:28:13.408885Z"
    }
   },
   "cell_type": "code",
   "source": [
    "acuracia_tree = accuracy_score(y_val, pred_tree)\n",
    "acuracia_knn = accuracy_score(y_val, pred_knn)\n",
    "acuracia_rl = accuracy_score(y_val, pred_log)\n",
    "\n",
    "acuracia_dict = {\n",
    "    'Modelos' : ['Árvore de decisão', 'KNN', 'Regressão logística'],\n",
    "    'Somente Numéricos' : [acuracia_tree, acuracia_knn, acuracia_rl]\n",
    "}\n",
    "acuracia = pd.DataFrame.from_dict(acuracia_dict)\n",
    "\n",
    "acuracia"
   ],
   "id": "3bac8e438617a5bd",
   "outputs": [
    {
     "data": {
      "text/plain": [
       "               Modelos  Somente Numéricos\n",
       "0    Árvore de decisão           0.616949\n",
       "1                  KNN           0.667797\n",
       "2  Regressão logística           0.725424"
      ],
      "text/html": [
       "<div>\n",
       "<style scoped>\n",
       "    .dataframe tbody tr th:only-of-type {\n",
       "        vertical-align: middle;\n",
       "    }\n",
       "\n",
       "    .dataframe tbody tr th {\n",
       "        vertical-align: top;\n",
       "    }\n",
       "\n",
       "    .dataframe thead th {\n",
       "        text-align: right;\n",
       "    }\n",
       "</style>\n",
       "<table border=\"1\" class=\"dataframe\">\n",
       "  <thead>\n",
       "    <tr style=\"text-align: right;\">\n",
       "      <th></th>\n",
       "      <th>Modelos</th>\n",
       "      <th>Somente Numéricos</th>\n",
       "    </tr>\n",
       "  </thead>\n",
       "  <tbody>\n",
       "    <tr>\n",
       "      <th>0</th>\n",
       "      <td>Árvore de decisão</td>\n",
       "      <td>0.616949</td>\n",
       "    </tr>\n",
       "    <tr>\n",
       "      <th>1</th>\n",
       "      <td>KNN</td>\n",
       "      <td>0.667797</td>\n",
       "    </tr>\n",
       "    <tr>\n",
       "      <th>2</th>\n",
       "      <td>Regressão logística</td>\n",
       "      <td>0.725424</td>\n",
       "    </tr>\n",
       "  </tbody>\n",
       "</table>\n",
       "</div>"
      ]
     },
     "execution_count": 118,
     "metadata": {},
     "output_type": "execute_result"
    }
   ],
   "execution_count": 118
  },
  {
   "metadata": {},
   "cell_type": "markdown",
   "source": [
    "### Matriz de confusão\n",
    "* Árvore"
   ],
   "id": "f94f5080a8476d8a"
  },
  {
   "metadata": {
    "ExecuteTime": {
     "end_time": "2025-07-16T01:28:13.488600Z",
     "start_time": "2025-07-16T01:28:13.482728Z"
    }
   },
   "cell_type": "code",
   "source": "confusion_matrix(y_val, pred_tree)",
   "id": "c5d28799c4032d5c",
   "outputs": [
    {
     "data": {
      "text/plain": [
       "array([[125,  50],\n",
       "       [ 63,  57]])"
      ]
     },
     "execution_count": 119,
     "metadata": {},
     "output_type": "execute_result"
    }
   ],
   "execution_count": 119
  },
  {
   "metadata": {},
   "cell_type": "markdown",
   "source": "* Knn",
   "id": "c980b48b1f52f62c"
  },
  {
   "metadata": {
    "ExecuteTime": {
     "end_time": "2025-07-16T01:28:13.651249Z",
     "start_time": "2025-07-16T01:28:13.644877Z"
    }
   },
   "cell_type": "code",
   "source": "confusion_matrix(y_val, pred_knn)",
   "id": "e9a0d0e8bc0d2297",
   "outputs": [
    {
     "data": {
      "text/plain": [
       "array([[134,  41],\n",
       "       [ 57,  63]])"
      ]
     },
     "execution_count": 120,
     "metadata": {},
     "output_type": "execute_result"
    }
   ],
   "execution_count": 120
  },
  {
   "metadata": {},
   "cell_type": "markdown",
   "source": "* Regressão logística",
   "id": "18c850a7adacfa54"
  },
  {
   "metadata": {
    "ExecuteTime": {
     "end_time": "2025-07-16T01:28:13.915304Z",
     "start_time": "2025-07-16T01:28:13.910629Z"
    }
   },
   "cell_type": "code",
   "source": "confusion_matrix(y_val, pred_log)",
   "id": "68eb5da89919b2b2",
   "outputs": [
    {
     "data": {
      "text/plain": [
       "array([[156,  19],\n",
       "       [ 62,  58]])"
      ]
     },
     "execution_count": 121,
     "metadata": {},
     "output_type": "execute_result"
    }
   ],
   "execution_count": 121
  },
  {
   "metadata": {},
   "cell_type": "markdown",
   "source": [
    "### Aplicação nos dados de teste propostos pelo desafio\n",
    "Os maiores resultados foram obtidos pela Regressão Logística.<br>\n",
    "Este modelo será aplicado aos dados numéricos da base de teste e enviados ao Kaggle."
   ],
   "id": "9ffe2b2ab4910b12"
  },
  {
   "metadata": {
    "ExecuteTime": {
     "end_time": "2025-07-16T01:28:14.044185Z",
     "start_time": "2025-07-16T01:28:14.036009Z"
    }
   },
   "cell_type": "code",
   "source": [
    "df_desafio = pd.DataFrame()\n",
    "df_desafio['PassengerId'] = test_nr['PassengerId']\n",
    "X_teste = test_nr.drop(['PassengerId'], axis = 1)\n",
    "y_pred = clf_rl.predict(X_teste)\n",
    "df_desafio['Survived'] = y_pred\n",
    "\n",
    "df_desafio.to_csv('Export/only_numbers_knn.csv', index = False)"
   ],
   "id": "46153a5e2b226b5c",
   "outputs": [],
   "execution_count": 122
  },
  {
   "metadata": {},
   "cell_type": "markdown",
   "source": [
    "<img src=\"IMG/im1.png\" width=\"500\" height=\"800\">\n",
    "O resultado obtido nesta submissão foi 0.66</br>\n",
    "\n",
    "## 5) NOVO TRATAMENTO DOS DADOS\n",
    "---\n",
    "Colunas que não são numéricas são tratadas e incluídas neste passo."
   ],
   "id": "4afb54d3d7578af9"
  },
  {
   "metadata": {
    "ExecuteTime": {
     "end_time": "2025-07-16T01:28:14.143833Z",
     "start_time": "2025-07-16T01:28:14.136664Z"
    }
   },
   "cell_type": "code",
   "source": "train.info()",
   "id": "38507b83de773d92",
   "outputs": [
    {
     "name": "stdout",
     "output_type": "stream",
     "text": [
      "<class 'pandas.core.frame.DataFrame'>\n",
      "RangeIndex: 891 entries, 0 to 890\n",
      "Data columns (total 8 columns):\n",
      " #   Column    Non-Null Count  Dtype  \n",
      "---  ------    --------------  -----  \n",
      " 0   Survived  891 non-null    int64  \n",
      " 1   Pclass    891 non-null    int64  \n",
      " 2   Sex       891 non-null    object \n",
      " 3   Age       891 non-null    float64\n",
      " 4   SibSp     891 non-null    int64  \n",
      " 5   Parch     891 non-null    int64  \n",
      " 6   Fare      891 non-null    float64\n",
      " 7   Embarked  891 non-null    object \n",
      "dtypes: float64(2), int64(4), object(2)\n",
      "memory usage: 55.8+ KB\n"
     ]
    }
   ],
   "execution_count": 123
  },
  {
   "metadata": {
    "ExecuteTime": {
     "end_time": "2025-07-16T01:28:14.225252Z",
     "start_time": "2025-07-16T01:28:14.219329Z"
    }
   },
   "cell_type": "code",
   "source": "test.info()",
   "id": "9ec4e395d9e5a4e6",
   "outputs": [
    {
     "name": "stdout",
     "output_type": "stream",
     "text": [
      "<class 'pandas.core.frame.DataFrame'>\n",
      "RangeIndex: 418 entries, 0 to 417\n",
      "Data columns (total 8 columns):\n",
      " #   Column       Non-Null Count  Dtype  \n",
      "---  ------       --------------  -----  \n",
      " 0   PassengerId  418 non-null    int64  \n",
      " 1   Pclass       418 non-null    int64  \n",
      " 2   Sex          418 non-null    object \n",
      " 3   Age          418 non-null    float64\n",
      " 4   SibSp        418 non-null    int64  \n",
      " 5   Parch        418 non-null    int64  \n",
      " 6   Fare         418 non-null    float64\n",
      " 7   Embarked     418 non-null    object \n",
      "dtypes: float64(2), int64(4), object(2)\n",
      "memory usage: 26.3+ KB\n"
     ]
    }
   ],
   "execution_count": 124
  },
  {
   "metadata": {},
   "cell_type": "markdown",
   "source": [
    "### Coluna SEX\n",
    "Esta coluna é binária, então apenas será passada para números 0 e 1."
   ],
   "id": "66025c358e7110e3"
  },
  {
   "metadata": {
    "ExecuteTime": {
     "end_time": "2025-07-16T01:28:14.297914Z",
     "start_time": "2025-07-16T01:28:14.292422Z"
    }
   },
   "cell_type": "code",
   "source": "train.Sex.value_counts()",
   "id": "77ac27005ed8d88e",
   "outputs": [
    {
     "data": {
      "text/plain": [
       "Sex\n",
       "male      577\n",
       "female    314\n",
       "Name: count, dtype: int64"
      ]
     },
     "execution_count": 125,
     "metadata": {},
     "output_type": "execute_result"
    }
   ],
   "execution_count": 125
  },
  {
   "metadata": {},
   "cell_type": "markdown",
   "source": [
    "*    male= 1 <br>\n",
    "*    female=0"
   ],
   "id": "468dd21758c6b10f"
  },
  {
   "metadata": {
    "ExecuteTime": {
     "end_time": "2025-07-16T01:28:14.387969Z",
     "start_time": "2025-07-16T01:28:14.383025Z"
    }
   },
   "cell_type": "code",
   "source": [
    "train['Sex'] = train.Sex.apply(lambda x: 1 if x == 'male' else 0)\n",
    "test['Sex'] = test.Sex.apply(lambda x: 1 if x == 'male' else 0)"
   ],
   "id": "e692a169e8c9ee4f",
   "outputs": [],
   "execution_count": 126
  },
  {
   "metadata": {},
   "cell_type": "markdown",
   "source": "Conferindo o resultado",
   "id": "37b69e354af0b6b"
  },
  {
   "metadata": {
    "ExecuteTime": {
     "end_time": "2025-07-16T01:28:14.519212Z",
     "start_time": "2025-07-16T01:28:14.513052Z"
    }
   },
   "cell_type": "code",
   "source": "train['Sex'].value_counts()",
   "id": "c13b7ed35553337c",
   "outputs": [
    {
     "data": {
      "text/plain": [
       "Sex\n",
       "1    577\n",
       "0    314\n",
       "Name: count, dtype: int64"
      ]
     },
     "execution_count": 127,
     "metadata": {},
     "output_type": "execute_result"
    }
   ],
   "execution_count": 127
  },
  {
   "metadata": {},
   "cell_type": "markdown",
   "source": [
    "### Coluna Embarked\n",
    "Para esta coluna será utilizado o One Hot Encoding.</br>\n",
    "Embarked é composto por S, C e Q. </br>\n",
    "Serão criadas três colunas, uma para cada valor, e um resultado binário será adicionado."
   ],
   "id": "1dd591dc1ec0476e"
  },
  {
   "metadata": {
    "ExecuteTime": {
     "end_time": "2025-07-16T01:28:14.628062Z",
     "start_time": "2025-07-16T01:28:14.621768Z"
    }
   },
   "cell_type": "code",
   "source": [
    "train['Embarked_S'] = train.Embarked.apply(lambda x: 1 if x == 'S' else 0)\n",
    "train['Embarked_C'] = train.Embarked.apply(lambda x: 1 if x == 'C' else 0)\n",
    "train['Embarked_Q'] = train.Embarked.apply(lambda x: 1 if x == 'Q' else 0)\n",
    "\n",
    "test['Embarked_S'] = test.Embarked.apply(lambda x: 1 if x == 'S' else 0)\n",
    "test['Embarked_C'] = test.Embarked.apply(lambda x: 1 if x == 'C' else 0)\n",
    "test['Embarked_Q'] = test.Embarked.apply(lambda x: 1 if x == 'Q' else 0)"
   ],
   "id": "c40b77374ec683cf",
   "outputs": [],
   "execution_count": 128
  },
  {
   "metadata": {
    "ExecuteTime": {
     "end_time": "2025-07-16T01:28:14.768753Z",
     "start_time": "2025-07-16T01:28:14.762319Z"
    }
   },
   "cell_type": "code",
   "source": "train[['Embarked', 'Embarked_S', 'Embarked_C', 'Embarked_Q']].value_counts()",
   "id": "407490a85445b349",
   "outputs": [
    {
     "data": {
      "text/plain": [
       "Embarked  Embarked_S  Embarked_C  Embarked_Q\n",
       "S         1           0           0             646\n",
       "C         0           1           0             168\n",
       "Q         0           0           1              77\n",
       "Name: count, dtype: int64"
      ]
     },
     "execution_count": 129,
     "metadata": {},
     "output_type": "execute_result"
    }
   ],
   "execution_count": 129
  },
  {
   "metadata": {
    "ExecuteTime": {
     "end_time": "2025-07-16T01:28:14.858623Z",
     "start_time": "2025-07-16T01:28:14.853667Z"
    }
   },
   "cell_type": "code",
   "source": [
    "train = train.drop(['Embarked'], axis = 1)\n",
    "test = test.drop(['Embarked'], axis = 1)"
   ],
   "id": "5184a409ceee00e9",
   "outputs": [],
   "execution_count": 130
  },
  {
   "metadata": {},
   "cell_type": "markdown",
   "source": [
    "## 6) Aplicação dos modelos ao novo tratamento de dados\n",
    "---"
   ],
   "id": "c9cfa726ca0cc409"
  },
  {
   "metadata": {
    "ExecuteTime": {
     "end_time": "2025-07-16T01:28:15.046277Z",
     "start_time": "2025-07-16T01:28:14.967674Z"
    }
   },
   "cell_type": "code",
   "source": [
    "X = train.drop(['Survived'], axis=1)\n",
    "y = train.Survived\n",
    "\n",
    "X_train, X_val, y_train, y_val = train_test_split(X, y, test_size=0.33, random_state=42)\n",
    "\n",
    "clf_tree = tree.DecisionTreeClassifier(random_state = 42)\n",
    "clf_tree = clf_tree.fit(X_train, y_train)\n",
    "pred_tree = clf_tree.predict(X_val)\n",
    "\n",
    "clf_knn = KNeighborsClassifier(n_neighbors=5)\n",
    "clf_knn .fit(X_train, y_train)\n",
    "pred_knn = clf_knn .predict(X_val)\n",
    "\n",
    "clf_rl = LogisticRegression(max_iter = 500, random_state=42)\n",
    "clf_rl.fit(X_train, y_train)\n",
    "pred_log = clf_rl.predict(X_val)"
   ],
   "id": "56da9cb8afd2ca5",
   "outputs": [],
   "execution_count": 131
  },
  {
   "metadata": {},
   "cell_type": "markdown",
   "source": "### Acurácia",
   "id": "dd34d27956984fbc"
  },
  {
   "metadata": {
    "ExecuteTime": {
     "end_time": "2025-07-16T01:28:15.098570Z",
     "start_time": "2025-07-16T01:28:15.089990Z"
    }
   },
   "cell_type": "code",
   "source": [
    "acuracia_tree = accuracy_score(y_val, pred_tree)\n",
    "acuracia_knn = accuracy_score(y_val, pred_knn)\n",
    "acuracia_rl = accuracy_score(y_val, pred_log)\n",
    "\n",
    "acuracia['Sex e OHE'] = [acuracia_tree, acuracia_knn, acuracia_rl]\n",
    "\n",
    "acuracia"
   ],
   "id": "f2e65ee1cdf92e35",
   "outputs": [
    {
     "data": {
      "text/plain": [
       "               Modelos  Somente Numéricos  Sex e OHE\n",
       "0    Árvore de decisão           0.616949   0.738983\n",
       "1                  KNN           0.667797   0.705085\n",
       "2  Regressão logística           0.725424   0.816949"
      ],
      "text/html": [
       "<div>\n",
       "<style scoped>\n",
       "    .dataframe tbody tr th:only-of-type {\n",
       "        vertical-align: middle;\n",
       "    }\n",
       "\n",
       "    .dataframe tbody tr th {\n",
       "        vertical-align: top;\n",
       "    }\n",
       "\n",
       "    .dataframe thead th {\n",
       "        text-align: right;\n",
       "    }\n",
       "</style>\n",
       "<table border=\"1\" class=\"dataframe\">\n",
       "  <thead>\n",
       "    <tr style=\"text-align: right;\">\n",
       "      <th></th>\n",
       "      <th>Modelos</th>\n",
       "      <th>Somente Numéricos</th>\n",
       "      <th>Sex e OHE</th>\n",
       "    </tr>\n",
       "  </thead>\n",
       "  <tbody>\n",
       "    <tr>\n",
       "      <th>0</th>\n",
       "      <td>Árvore de decisão</td>\n",
       "      <td>0.616949</td>\n",
       "      <td>0.738983</td>\n",
       "    </tr>\n",
       "    <tr>\n",
       "      <th>1</th>\n",
       "      <td>KNN</td>\n",
       "      <td>0.667797</td>\n",
       "      <td>0.705085</td>\n",
       "    </tr>\n",
       "    <tr>\n",
       "      <th>2</th>\n",
       "      <td>Regressão logística</td>\n",
       "      <td>0.725424</td>\n",
       "      <td>0.816949</td>\n",
       "    </tr>\n",
       "  </tbody>\n",
       "</table>\n",
       "</div>"
      ]
     },
     "execution_count": 132,
     "metadata": {},
     "output_type": "execute_result"
    }
   ],
   "execution_count": 132
  },
  {
   "metadata": {},
   "cell_type": "markdown",
   "source": [
    "Notamos um aumento na acurácia de todos os métodos</br>\n",
    "Principalmente em Reg. Logística com aumento de 9%\n",
    "### Exportação Kaggle\n",
    "Com a maior acurácia, o classificador Reg. Logística será escolhido para enviar os dados ao Kaggle."
   ],
   "id": "dba2c2e5797f218a"
  },
  {
   "metadata": {
    "ExecuteTime": {
     "end_time": "2025-07-16T01:28:15.176399Z",
     "start_time": "2025-07-16T01:28:15.168401Z"
    }
   },
   "cell_type": "code",
   "source": [
    "df_desafio = pd.DataFrame()\n",
    "df_desafio['PassengerId'] = test['PassengerId']\n",
    "X_test = test.drop(['PassengerId'], axis = 1)\n",
    "y_pred = clf_rl.predict(X_test)\n",
    "df_desafio['Survived'] = y_pred\n",
    "\n",
    "df_desafio.to_csv('Export/sexeohe.csv', index = False)"
   ],
   "id": "37f8045b189f0adc",
   "outputs": [],
   "execution_count": 133
  },
  {
   "metadata": {},
   "cell_type": "markdown",
   "source": [
    "<img src=\"IMG/im2.png\" width=\"500\" height=\"800\">\n",
    "O resultado obtido na nova submissão foi 0.76 e aumentou 10%</br>\n",
    "\n",
    "## 7) VISUALIZAÇÃO DOS DADOS OBTIDOS ATÉ O MOMENTO\n",
    "---"
   ],
   "id": "7f923394eb30c0e5"
  },
  {
   "metadata": {
    "ExecuteTime": {
     "end_time": "2025-07-16T01:28:15.270670Z",
     "start_time": "2025-07-16T01:28:15.238026Z"
    }
   },
   "cell_type": "code",
   "source": [
    "fig, ax = plt.subplots(figsize=(10,5))\n",
    "\n",
    "ax.boxplot(train.iloc[:,1:10])\n",
    "ax.set_xticks(range(1,train.iloc[:,1:10].shape[1]+1),train.iloc[:,1:10].columns)\n",
    "\n",
    "plt.show()"
   ],
   "id": "99bd3c8d53caeda2",
   "outputs": [],
   "execution_count": 134
  },
  {
   "metadata": {},
   "cell_type": "markdown",
   "source": [
    "As colunas Age e Fare são muito diferentes das demais.</br>\n",
    "Também, possuem grande número de Outliers.<br>\n",
    "O mais indicado a se utilizar é ROBUSTSCALER.</br>\n",
    "<br>\n",
    "Existem diversos outros métodos que poderiam ser utilizados."
   ],
   "id": "7e3a92ec9512b688"
  },
  {
   "metadata": {
    "ExecuteTime": {
     "end_time": "2025-07-16T01:28:15.353197Z",
     "start_time": "2025-07-16T01:28:15.341953Z"
    }
   },
   "cell_type": "code",
   "source": [
    "transformer = RobustScaler().fit(train[['Age', 'Fare']])\n",
    "train[['Age', 'Fare']] = transformer.transform(train[['Age', 'Fare']])\n",
    "\n",
    "transformer = RobustScaler().fit(test[['Age', 'Fare']])\n",
    "test[['Age', 'Fare']] = transformer.transform(test[['Age', 'Fare']])"
   ],
   "id": "bf802212e0ecce1d",
   "outputs": [],
   "execution_count": 135
  },
  {
   "metadata": {
    "ExecuteTime": {
     "end_time": "2025-07-16T01:28:15.440796Z",
     "start_time": "2025-07-16T01:28:15.406869Z"
    }
   },
   "cell_type": "code",
   "source": [
    "fig, ax = plt.subplots(figsize=(10,5))\n",
    "ax.boxplot(train.iloc[:,1:10])\n",
    "ax.set_xticks(range(1,train.iloc[:,1:10].shape[1]+1),train.iloc[:,1:10].columns)\n",
    "plt.show()"
   ],
   "id": "e5446e32b63154dd",
   "outputs": [],
   "execution_count": 136
  },
  {
   "metadata": {},
   "cell_type": "markdown",
   "source": [
    "Após a transformação a escala dos dados fica bem próxima\n",
    "\n",
    "## 8) APLICAÇÃO DOS RESULTADOS COM A ESCALA AJUSTADA\n",
    "---"
   ],
   "id": "ae33927ae4b1e68b"
  },
  {
   "metadata": {
    "ExecuteTime": {
     "end_time": "2025-07-16T01:28:15.506149Z",
     "start_time": "2025-07-16T01:28:15.473547Z"
    }
   },
   "cell_type": "code",
   "source": [
    "X = train.drop(['Survived'], axis = 1)\n",
    "y = train.Survived\n",
    "\n",
    "X_train, X_val, y_train, y_val = train_test_split(X, y, test_size=0.33, random_state=42)\n",
    "\n",
    "clf_tree = tree.DecisionTreeClassifier(random_state = 42)\n",
    "clf_tree = clf_tree.fit(X_train, y_train)\n",
    "pred_tree = clf_tree.predict(X_val)\n",
    "\n",
    "clf_knn = KNeighborsClassifier(n_neighbors=3)\n",
    "clf_knn .fit(X_train, y_train)\n",
    "pred_knn = clf_knn .predict(X_val)\n",
    "\n",
    "clf = LogisticRegression(random_state=42)\n",
    "clf.fit(X_train, y_train)\n",
    "pred_log = clf.predict(X_val)"
   ],
   "id": "2e5a4520d3bbf198",
   "outputs": [],
   "execution_count": 137
  },
  {
   "metadata": {},
   "cell_type": "markdown",
   "source": "### Acurácia",
   "id": "69568898d54d4307"
  },
  {
   "metadata": {
    "ExecuteTime": {
     "end_time": "2025-07-16T01:28:15.551900Z",
     "start_time": "2025-07-16T01:28:15.542898Z"
    }
   },
   "cell_type": "code",
   "source": [
    "acuracia_tree = accuracy_score(y_val, pred_tree)\n",
    "acuracia_knn = accuracy_score(y_val, pred_knn)\n",
    "acuracia_rl = accuracy_score(y_val, pred_log)\n",
    "\n",
    "acuracia['Escala'] = [acuracia_tree, acuracia_knn, acuracia_rl]\n",
    "\n",
    "acuracia"
   ],
   "id": "1812e7e6d6859967",
   "outputs": [
    {
     "data": {
      "text/plain": [
       "               Modelos  Somente Numéricos  Sex e OHE    Escala\n",
       "0    Árvore de decisão           0.616949   0.738983  0.738983\n",
       "1                  KNN           0.667797   0.705085  0.800000\n",
       "2  Regressão logística           0.725424   0.816949  0.816949"
      ],
      "text/html": [
       "<div>\n",
       "<style scoped>\n",
       "    .dataframe tbody tr th:only-of-type {\n",
       "        vertical-align: middle;\n",
       "    }\n",
       "\n",
       "    .dataframe tbody tr th {\n",
       "        vertical-align: top;\n",
       "    }\n",
       "\n",
       "    .dataframe thead th {\n",
       "        text-align: right;\n",
       "    }\n",
       "</style>\n",
       "<table border=\"1\" class=\"dataframe\">\n",
       "  <thead>\n",
       "    <tr style=\"text-align: right;\">\n",
       "      <th></th>\n",
       "      <th>Modelos</th>\n",
       "      <th>Somente Numéricos</th>\n",
       "      <th>Sex e OHE</th>\n",
       "      <th>Escala</th>\n",
       "    </tr>\n",
       "  </thead>\n",
       "  <tbody>\n",
       "    <tr>\n",
       "      <th>0</th>\n",
       "      <td>Árvore de decisão</td>\n",
       "      <td>0.616949</td>\n",
       "      <td>0.738983</td>\n",
       "      <td>0.738983</td>\n",
       "    </tr>\n",
       "    <tr>\n",
       "      <th>1</th>\n",
       "      <td>KNN</td>\n",
       "      <td>0.667797</td>\n",
       "      <td>0.705085</td>\n",
       "      <td>0.800000</td>\n",
       "    </tr>\n",
       "    <tr>\n",
       "      <th>2</th>\n",
       "      <td>Regressão logística</td>\n",
       "      <td>0.725424</td>\n",
       "      <td>0.816949</td>\n",
       "      <td>0.816949</td>\n",
       "    </tr>\n",
       "  </tbody>\n",
       "</table>\n",
       "</div>"
      ]
     },
     "execution_count": 138,
     "metadata": {},
     "output_type": "execute_result"
    }
   ],
   "execution_count": 138
  },
  {
   "metadata": {},
   "cell_type": "markdown",
   "source": [
    "Houve aumento na acurácia apenas do KNN.</br>\n",
    "Para esta técnica a acurácia nos dados de treino aumentou 10%.\n",
    "### Exportação Kaggle\n",
    "Apesar de apresentar uma acurácia um pouco menos, o KNN será escolhido </br>\n",
    "para exportar os dados para o Kaggle já que teve grande aumento da acurácia<br>\n",
    "assim o resultado poderá ser melhor observado."
   ],
   "id": "7b806bddfad05f33"
  },
  {
   "metadata": {
    "ExecuteTime": {
     "end_time": "2025-07-16T01:28:15.642818Z",
     "start_time": "2025-07-16T01:28:15.620738Z"
    }
   },
   "cell_type": "code",
   "source": [
    "df_desafio = pd.DataFrame()\n",
    "df_desafio['PassengerId'] = test['PassengerId']\n",
    "X_test = test.drop(['PassengerId'], axis = 1)\n",
    "y_pred = clf_knn.predict(X_test)\n",
    "df_desafio['Survived'] = y_pred\n",
    "\n",
    "df_desafio.to_csv('Export/escala.csv', index = False)"
   ],
   "id": "9bc9a03fe059d5b3",
   "outputs": [],
   "execution_count": 139
  },
  {
   "metadata": {},
   "cell_type": "markdown",
   "source": [
    "<img src=\"IMG/im3.png\" width=\"500\" height=\"800\">\n",
    "\n",
    "Apesar de um aumento significativo na acurácia do KNN o resultado ainda</br>\n",
    "está inferior ao alcançado pela Regressão Logística.\n",
    "\n",
    "## 9) TRATAMENTO DE OUTRAS VARIÁVEIS\n",
    "---\n",
    "### Colunas SibSp e Parch\n",
    "\n",
    "SibSp: Num de cônjuges ou irmãos à bordo</br>\n",
    "Parch: Num de Pais ou Filhos à bordo</br>\n",
    "\n",
    "### Verificar quantas pessoas sobreviveram nessas colunas"
   ],
   "id": "b0ce186be5411f4b"
  },
  {
   "metadata": {
    "ExecuteTime": {
     "end_time": "2025-07-16T01:28:15.759046Z",
     "start_time": "2025-07-16T01:28:15.750733Z"
    }
   },
   "cell_type": "code",
   "source": [
    "SibSp_df = train.groupby('SibSp')['Survived'].agg(['sum', 'count', 'mean']).reset_index()\n",
    "SibSp_df.columns = ['SibSp', 'Sobrev', 'Total', 'Taxa']\n",
    "SibSp_df"
   ],
   "id": "2ff1808a13e936c9",
   "outputs": [
    {
     "data": {
      "text/plain": [
       "   SibSp  Sobrev  Total      Taxa\n",
       "0      0     210    608  0.345395\n",
       "1      1     112    209  0.535885\n",
       "2      2      13     28  0.464286\n",
       "3      3       4     16  0.250000\n",
       "4      4       3     18  0.166667\n",
       "5      5       0      5  0.000000\n",
       "6      8       0      7  0.000000"
      ],
      "text/html": [
       "<div>\n",
       "<style scoped>\n",
       "    .dataframe tbody tr th:only-of-type {\n",
       "        vertical-align: middle;\n",
       "    }\n",
       "\n",
       "    .dataframe tbody tr th {\n",
       "        vertical-align: top;\n",
       "    }\n",
       "\n",
       "    .dataframe thead th {\n",
       "        text-align: right;\n",
       "    }\n",
       "</style>\n",
       "<table border=\"1\" class=\"dataframe\">\n",
       "  <thead>\n",
       "    <tr style=\"text-align: right;\">\n",
       "      <th></th>\n",
       "      <th>SibSp</th>\n",
       "      <th>Sobrev</th>\n",
       "      <th>Total</th>\n",
       "      <th>Taxa</th>\n",
       "    </tr>\n",
       "  </thead>\n",
       "  <tbody>\n",
       "    <tr>\n",
       "      <th>0</th>\n",
       "      <td>0</td>\n",
       "      <td>210</td>\n",
       "      <td>608</td>\n",
       "      <td>0.345395</td>\n",
       "    </tr>\n",
       "    <tr>\n",
       "      <th>1</th>\n",
       "      <td>1</td>\n",
       "      <td>112</td>\n",
       "      <td>209</td>\n",
       "      <td>0.535885</td>\n",
       "    </tr>\n",
       "    <tr>\n",
       "      <th>2</th>\n",
       "      <td>2</td>\n",
       "      <td>13</td>\n",
       "      <td>28</td>\n",
       "      <td>0.464286</td>\n",
       "    </tr>\n",
       "    <tr>\n",
       "      <th>3</th>\n",
       "      <td>3</td>\n",
       "      <td>4</td>\n",
       "      <td>16</td>\n",
       "      <td>0.250000</td>\n",
       "    </tr>\n",
       "    <tr>\n",
       "      <th>4</th>\n",
       "      <td>4</td>\n",
       "      <td>3</td>\n",
       "      <td>18</td>\n",
       "      <td>0.166667</td>\n",
       "    </tr>\n",
       "    <tr>\n",
       "      <th>5</th>\n",
       "      <td>5</td>\n",
       "      <td>0</td>\n",
       "      <td>5</td>\n",
       "      <td>0.000000</td>\n",
       "    </tr>\n",
       "    <tr>\n",
       "      <th>6</th>\n",
       "      <td>8</td>\n",
       "      <td>0</td>\n",
       "      <td>7</td>\n",
       "      <td>0.000000</td>\n",
       "    </tr>\n",
       "  </tbody>\n",
       "</table>\n",
       "</div>"
      ]
     },
     "execution_count": 140,
     "metadata": {},
     "output_type": "execute_result"
    }
   ],
   "execution_count": 140
  },
  {
   "metadata": {
    "ExecuteTime": {
     "end_time": "2025-07-16T01:28:15.868420Z",
     "start_time": "2025-07-16T01:28:15.860090Z"
    }
   },
   "cell_type": "code",
   "source": [
    "Parch_df = train.groupby('Parch')['Survived'].agg(['sum', 'count', 'mean']).reset_index()\n",
    "Parch_df.columns = ['Parch', 'Sobrev', 'Total', 'Taxa']\n",
    "Parch_df"
   ],
   "id": "21a7bc19219fed58",
   "outputs": [
    {
     "data": {
      "text/plain": [
       "   Parch  Sobrev  Total      Taxa\n",
       "0      0     233    678  0.343658\n",
       "1      1      65    118  0.550847\n",
       "2      2      40     80  0.500000\n",
       "3      3       3      5  0.600000\n",
       "4      4       0      4  0.000000\n",
       "5      5       1      5  0.200000\n",
       "6      6       0      1  0.000000"
      ],
      "text/html": [
       "<div>\n",
       "<style scoped>\n",
       "    .dataframe tbody tr th:only-of-type {\n",
       "        vertical-align: middle;\n",
       "    }\n",
       "\n",
       "    .dataframe tbody tr th {\n",
       "        vertical-align: top;\n",
       "    }\n",
       "\n",
       "    .dataframe thead th {\n",
       "        text-align: right;\n",
       "    }\n",
       "</style>\n",
       "<table border=\"1\" class=\"dataframe\">\n",
       "  <thead>\n",
       "    <tr style=\"text-align: right;\">\n",
       "      <th></th>\n",
       "      <th>Parch</th>\n",
       "      <th>Sobrev</th>\n",
       "      <th>Total</th>\n",
       "      <th>Taxa</th>\n",
       "    </tr>\n",
       "  </thead>\n",
       "  <tbody>\n",
       "    <tr>\n",
       "      <th>0</th>\n",
       "      <td>0</td>\n",
       "      <td>233</td>\n",
       "      <td>678</td>\n",
       "      <td>0.343658</td>\n",
       "    </tr>\n",
       "    <tr>\n",
       "      <th>1</th>\n",
       "      <td>1</td>\n",
       "      <td>65</td>\n",
       "      <td>118</td>\n",
       "      <td>0.550847</td>\n",
       "    </tr>\n",
       "    <tr>\n",
       "      <th>2</th>\n",
       "      <td>2</td>\n",
       "      <td>40</td>\n",
       "      <td>80</td>\n",
       "      <td>0.500000</td>\n",
       "    </tr>\n",
       "    <tr>\n",
       "      <th>3</th>\n",
       "      <td>3</td>\n",
       "      <td>3</td>\n",
       "      <td>5</td>\n",
       "      <td>0.600000</td>\n",
       "    </tr>\n",
       "    <tr>\n",
       "      <th>4</th>\n",
       "      <td>4</td>\n",
       "      <td>0</td>\n",
       "      <td>4</td>\n",
       "      <td>0.000000</td>\n",
       "    </tr>\n",
       "    <tr>\n",
       "      <th>5</th>\n",
       "      <td>5</td>\n",
       "      <td>1</td>\n",
       "      <td>5</td>\n",
       "      <td>0.200000</td>\n",
       "    </tr>\n",
       "    <tr>\n",
       "      <th>6</th>\n",
       "      <td>6</td>\n",
       "      <td>0</td>\n",
       "      <td>1</td>\n",
       "      <td>0.000000</td>\n",
       "    </tr>\n",
       "  </tbody>\n",
       "</table>\n",
       "</div>"
      ]
     },
     "execution_count": 141,
     "metadata": {},
     "output_type": "execute_result"
    }
   ],
   "execution_count": 141
  },
  {
   "metadata": {},
   "cell_type": "markdown",
   "source": "### Visualizando essas informações gráficamente",
   "id": "16f0c31d909ce22e"
  },
  {
   "metadata": {
    "ExecuteTime": {
     "end_time": "2025-07-16T01:28:16.062682Z",
     "start_time": "2025-07-16T01:28:16.027608Z"
    }
   },
   "cell_type": "code",
   "source": [
    "fig, ax = plt.subplots(ncols=2, nrows=2, figsize=(10,6))\n",
    "\n",
    "ax[0,0].plot(SibSp_df.SibSp , SibSp_df.Sobrev)\n",
    "ax[0,0].plot(SibSp_df.SibSp , SibSp_df.Total)\n",
    "ax[0,0].set_title('Sobreviventes por num de irmãos ou cônjuges')\n",
    "\n",
    "labels1 = ax[0,1].bar(SibSp_df.SibSp , SibSp_df.Taxa)\n",
    "ax[0,1].bar_label(labels1, fmt='%.02f')\n",
    "ax[0,1].set(ylim=(0,0.6))\n",
    "ax[0,1].set_title('Taxa de sobreviventes por num de irmãos ou cônjuges')\n",
    "\n",
    "ax[1,0].plot(Parch_df.Parch , Parch_df.Sobrev)\n",
    "ax[1,0].plot(Parch_df.Parch , Parch_df.Total)\n",
    "ax[1,0].set_title('Sobreviventes por num de pais ou filhos')\n",
    "\n",
    "labels2 = ax[1,1].bar(Parch_df.Parch , Parch_df.Taxa)\n",
    "ax[1,1].bar_label(labels2, fmt='%.02f')\n",
    "ax[1,1].set(ylim=(0,0.7))\n",
    "ax[1,1].set_title('Tava de sobreviventes por num de pais ou filhos')\n",
    "\n",
    "plt.show()"
   ],
   "id": "e7fc61f653ee712",
   "outputs": [],
   "execution_count": 142
  },
  {
   "metadata": {},
   "cell_type": "markdown",
   "source": [
    "Essa análise permite notar que passageiros que viajaram só tem menos chance de sobrevivência.</br>\n",
    "Comparando a taxa de sob para pessoas só.</br>\n",
    "Com isso podemos inserir esta percepção em uma nova coluna no DataFrame.\n",
    "### Inserção de nova variável"
   ],
   "id": "70043d50c9b46292"
  },
  {
   "metadata": {
    "ExecuteTime": {
     "end_time": "2025-07-16T01:28:16.185872Z",
     "start_time": "2025-07-16T01:28:16.183050Z"
    }
   },
   "cell_type": "code",
   "source": [
    "def sozinho(a,b):\n",
    "    if a==0 and b==0 :\n",
    "        return 1\n",
    "    return 0"
   ],
   "id": "bdf7bf98459777ae",
   "outputs": [],
   "execution_count": 143
  },
  {
   "metadata": {
    "ExecuteTime": {
     "end_time": "2025-07-16T01:28:16.263123Z",
     "start_time": "2025-07-16T01:28:16.241807Z"
    }
   },
   "cell_type": "code",
   "source": [
    "train['Sozinho'] = train.apply(lambda x: sozinho(x.SibSp, x.Parch), axis=1)\n",
    "test['Sozinho'] = test.apply(lambda x: sozinho(x.SibSp, x.Parch), axis=1)\n",
    "\n",
    "train.head(2)"
   ],
   "id": "6cbb653667f750db",
   "outputs": [
    {
     "data": {
      "text/plain": [
       "   Survived  Pclass  Sex       Age  SibSp  Parch      Fare  Embarked_S  \\\n",
       "0         0       3    1 -0.592240      1      0 -0.312011           1   \n",
       "1         1       1    0  0.638529      1      0  2.461242           0   \n",
       "\n",
       "   Embarked_C  Embarked_Q  Sozinho  \n",
       "0           0           0        0  \n",
       "1           1           0        0  "
      ],
      "text/html": [
       "<div>\n",
       "<style scoped>\n",
       "    .dataframe tbody tr th:only-of-type {\n",
       "        vertical-align: middle;\n",
       "    }\n",
       "\n",
       "    .dataframe tbody tr th {\n",
       "        vertical-align: top;\n",
       "    }\n",
       "\n",
       "    .dataframe thead th {\n",
       "        text-align: right;\n",
       "    }\n",
       "</style>\n",
       "<table border=\"1\" class=\"dataframe\">\n",
       "  <thead>\n",
       "    <tr style=\"text-align: right;\">\n",
       "      <th></th>\n",
       "      <th>Survived</th>\n",
       "      <th>Pclass</th>\n",
       "      <th>Sex</th>\n",
       "      <th>Age</th>\n",
       "      <th>SibSp</th>\n",
       "      <th>Parch</th>\n",
       "      <th>Fare</th>\n",
       "      <th>Embarked_S</th>\n",
       "      <th>Embarked_C</th>\n",
       "      <th>Embarked_Q</th>\n",
       "      <th>Sozinho</th>\n",
       "    </tr>\n",
       "  </thead>\n",
       "  <tbody>\n",
       "    <tr>\n",
       "      <th>0</th>\n",
       "      <td>0</td>\n",
       "      <td>3</td>\n",
       "      <td>1</td>\n",
       "      <td>-0.592240</td>\n",
       "      <td>1</td>\n",
       "      <td>0</td>\n",
       "      <td>-0.312011</td>\n",
       "      <td>1</td>\n",
       "      <td>0</td>\n",
       "      <td>0</td>\n",
       "      <td>0</td>\n",
       "    </tr>\n",
       "    <tr>\n",
       "      <th>1</th>\n",
       "      <td>1</td>\n",
       "      <td>1</td>\n",
       "      <td>0</td>\n",
       "      <td>0.638529</td>\n",
       "      <td>1</td>\n",
       "      <td>0</td>\n",
       "      <td>2.461242</td>\n",
       "      <td>0</td>\n",
       "      <td>1</td>\n",
       "      <td>0</td>\n",
       "      <td>0</td>\n",
       "    </tr>\n",
       "  </tbody>\n",
       "</table>\n",
       "</div>"
      ]
     },
     "execution_count": 144,
     "metadata": {},
     "output_type": "execute_result"
    }
   ],
   "execution_count": 144
  },
  {
   "metadata": {},
   "cell_type": "markdown",
   "source": [
    "### Variável Familiares\n",
    "É Possível unificar as varáveis SibSp e Parch em uma única que se chamará familiar.</br>\n",
    "Já que ambas descrevem os membros de uma mesma família que estão acompanhando o passageiro."
   ],
   "id": "d21b568684178f1"
  },
  {
   "metadata": {
    "ExecuteTime": {
     "end_time": "2025-07-16T01:28:16.381633Z",
     "start_time": "2025-07-16T01:28:16.377514Z"
    }
   },
   "cell_type": "code",
   "source": [
    "train['Familiares'] = train.SibSp + train.Parch\n",
    "test['Familiares'] = test.SibSp + test.Parch"
   ],
   "id": "1838aaba71f43d7a",
   "outputs": [],
   "execution_count": 145
  },
  {
   "metadata": {},
   "cell_type": "markdown",
   "source": "Assim serão removidas ambas as colunas que estão representadas por Familiares.",
   "id": "fc4fba5426805366"
  },
  {
   "metadata": {
    "ExecuteTime": {
     "end_time": "2025-07-16T01:28:16.549900Z",
     "start_time": "2025-07-16T01:28:16.544378Z"
    }
   },
   "cell_type": "code",
   "source": [
    "train = train.drop(['SibSp'], axis = 1)\n",
    "train = train.drop(['Parch'], axis = 1)\n",
    "\n",
    "test = test.drop(['SibSp'], axis = 1)\n",
    "test = test.drop(['Parch'], axis = 1)"
   ],
   "id": "c8c4e0bcce207faf",
   "outputs": [],
   "execution_count": 146
  },
  {
   "metadata": {},
   "cell_type": "markdown",
   "source": "### Observando o comportamento dessa nova variável",
   "id": "ee4774df459302a6"
  },
  {
   "metadata": {
    "ExecuteTime": {
     "end_time": "2025-07-16T01:28:16.647463Z",
     "start_time": "2025-07-16T01:28:16.638472Z"
    }
   },
   "cell_type": "code",
   "source": [
    "Familiares_df = train.groupby('Familiares')['Survived'].agg(['sum', 'count', 'mean']).reset_index()\n",
    "Familiares_df.columns = ['Familiares', 'Sobrev', 'Total', 'Taxa']\n",
    "Familiares_df"
   ],
   "id": "db78e36d842a5f61",
   "outputs": [
    {
     "data": {
      "text/plain": [
       "   Familiares  Sobrev  Total      Taxa\n",
       "0           0     163    537  0.303538\n",
       "1           1      89    161  0.552795\n",
       "2           2      59    102  0.578431\n",
       "3           3      21     29  0.724138\n",
       "4           4       3     15  0.200000\n",
       "5           5       3     22  0.136364\n",
       "6           6       4     12  0.333333\n",
       "7           7       0      6  0.000000\n",
       "8          10       0      7  0.000000"
      ],
      "text/html": [
       "<div>\n",
       "<style scoped>\n",
       "    .dataframe tbody tr th:only-of-type {\n",
       "        vertical-align: middle;\n",
       "    }\n",
       "\n",
       "    .dataframe tbody tr th {\n",
       "        vertical-align: top;\n",
       "    }\n",
       "\n",
       "    .dataframe thead th {\n",
       "        text-align: right;\n",
       "    }\n",
       "</style>\n",
       "<table border=\"1\" class=\"dataframe\">\n",
       "  <thead>\n",
       "    <tr style=\"text-align: right;\">\n",
       "      <th></th>\n",
       "      <th>Familiares</th>\n",
       "      <th>Sobrev</th>\n",
       "      <th>Total</th>\n",
       "      <th>Taxa</th>\n",
       "    </tr>\n",
       "  </thead>\n",
       "  <tbody>\n",
       "    <tr>\n",
       "      <th>0</th>\n",
       "      <td>0</td>\n",
       "      <td>163</td>\n",
       "      <td>537</td>\n",
       "      <td>0.303538</td>\n",
       "    </tr>\n",
       "    <tr>\n",
       "      <th>1</th>\n",
       "      <td>1</td>\n",
       "      <td>89</td>\n",
       "      <td>161</td>\n",
       "      <td>0.552795</td>\n",
       "    </tr>\n",
       "    <tr>\n",
       "      <th>2</th>\n",
       "      <td>2</td>\n",
       "      <td>59</td>\n",
       "      <td>102</td>\n",
       "      <td>0.578431</td>\n",
       "    </tr>\n",
       "    <tr>\n",
       "      <th>3</th>\n",
       "      <td>3</td>\n",
       "      <td>21</td>\n",
       "      <td>29</td>\n",
       "      <td>0.724138</td>\n",
       "    </tr>\n",
       "    <tr>\n",
       "      <th>4</th>\n",
       "      <td>4</td>\n",
       "      <td>3</td>\n",
       "      <td>15</td>\n",
       "      <td>0.200000</td>\n",
       "    </tr>\n",
       "    <tr>\n",
       "      <th>5</th>\n",
       "      <td>5</td>\n",
       "      <td>3</td>\n",
       "      <td>22</td>\n",
       "      <td>0.136364</td>\n",
       "    </tr>\n",
       "    <tr>\n",
       "      <th>6</th>\n",
       "      <td>6</td>\n",
       "      <td>4</td>\n",
       "      <td>12</td>\n",
       "      <td>0.333333</td>\n",
       "    </tr>\n",
       "    <tr>\n",
       "      <th>7</th>\n",
       "      <td>7</td>\n",
       "      <td>0</td>\n",
       "      <td>6</td>\n",
       "      <td>0.000000</td>\n",
       "    </tr>\n",
       "    <tr>\n",
       "      <th>8</th>\n",
       "      <td>10</td>\n",
       "      <td>0</td>\n",
       "      <td>7</td>\n",
       "      <td>0.000000</td>\n",
       "    </tr>\n",
       "  </tbody>\n",
       "</table>\n",
       "</div>"
      ]
     },
     "execution_count": 147,
     "metadata": {},
     "output_type": "execute_result"
    }
   ],
   "execution_count": 147
  },
  {
   "metadata": {
    "ExecuteTime": {
     "end_time": "2025-07-16T01:28:16.871497Z",
     "start_time": "2025-07-16T01:28:16.862664Z"
    }
   },
   "cell_type": "code",
   "source": [
    "plt.bar(Familiares_df.Familiares , Familiares_df.Taxa)\n",
    "plt.show"
   ],
   "id": "2cf51a047a71c5fa",
   "outputs": [
    {
     "data": {
      "text/plain": [
       "<function matplotlib.pyplot.show(*, block=None)>"
      ]
     },
     "execution_count": 148,
     "metadata": {},
     "output_type": "execute_result"
    }
   ],
   "execution_count": 148
  },
  {
   "metadata": {},
   "cell_type": "markdown",
   "source": [
    "## 10) COLETANDO RESULTADOS APÓS AS TRANSFORMAÇÕES\n",
    "---"
   ],
   "id": "b014245ee0ae72dd"
  },
  {
   "metadata": {
    "ExecuteTime": {
     "end_time": "2025-07-16T01:28:17.008443Z",
     "start_time": "2025-07-16T01:28:16.975683Z"
    }
   },
   "cell_type": "code",
   "source": [
    "X = train.drop(['Survived'], axis = 1)\n",
    "y = train.Survived\n",
    "\n",
    "X_train, X_val, y_train, y_val = train_test_split(X, y, test_size=0.33, random_state=42)\n",
    "\n",
    "clf_tree = tree.DecisionTreeClassifier(random_state = 42)\n",
    "clf_tree = clf_tree.fit(X_train, y_train)\n",
    "pred_tree = clf_tree.predict(X_val)\n",
    "\n",
    "clf_knn = KNeighborsClassifier(n_neighbors=3)\n",
    "clf_knn .fit(X_train, y_train)\n",
    "pred_knn = clf_knn .predict(X_val)\n",
    "\n",
    "clf = LogisticRegression(random_state=42)\n",
    "clf.fit(X_train, y_train)\n",
    "pred_log = clf.predict(X_val)"
   ],
   "id": "71c1274720aab9d7",
   "outputs": [],
   "execution_count": 149
  },
  {
   "metadata": {
    "ExecuteTime": {
     "end_time": "2025-07-16T01:28:17.075573Z",
     "start_time": "2025-07-16T01:28:17.066043Z"
    }
   },
   "cell_type": "code",
   "source": [
    "acuracia_tree = accuracy_score(y_val, pred_tree)\n",
    "acuracia_knn = accuracy_score(y_val, pred_knn)\n",
    "acuracia_rl = accuracy_score(y_val, pred_log)\n",
    "\n",
    "acuracia['Familiares'] = [acuracia_tree, acuracia_knn, acuracia_rl]\n",
    "\n",
    "acuracia"
   ],
   "id": "98f2348eadce9e87",
   "outputs": [
    {
     "data": {
      "text/plain": [
       "               Modelos  Somente Numéricos  Sex e OHE    Escala  Familiares\n",
       "0    Árvore de decisão           0.616949   0.738983  0.738983    0.749153\n",
       "1                  KNN           0.667797   0.705085  0.800000    0.789831\n",
       "2  Regressão logística           0.725424   0.816949  0.816949    0.810169"
      ],
      "text/html": [
       "<div>\n",
       "<style scoped>\n",
       "    .dataframe tbody tr th:only-of-type {\n",
       "        vertical-align: middle;\n",
       "    }\n",
       "\n",
       "    .dataframe tbody tr th {\n",
       "        vertical-align: top;\n",
       "    }\n",
       "\n",
       "    .dataframe thead th {\n",
       "        text-align: right;\n",
       "    }\n",
       "</style>\n",
       "<table border=\"1\" class=\"dataframe\">\n",
       "  <thead>\n",
       "    <tr style=\"text-align: right;\">\n",
       "      <th></th>\n",
       "      <th>Modelos</th>\n",
       "      <th>Somente Numéricos</th>\n",
       "      <th>Sex e OHE</th>\n",
       "      <th>Escala</th>\n",
       "      <th>Familiares</th>\n",
       "    </tr>\n",
       "  </thead>\n",
       "  <tbody>\n",
       "    <tr>\n",
       "      <th>0</th>\n",
       "      <td>Árvore de decisão</td>\n",
       "      <td>0.616949</td>\n",
       "      <td>0.738983</td>\n",
       "      <td>0.738983</td>\n",
       "      <td>0.749153</td>\n",
       "    </tr>\n",
       "    <tr>\n",
       "      <th>1</th>\n",
       "      <td>KNN</td>\n",
       "      <td>0.667797</td>\n",
       "      <td>0.705085</td>\n",
       "      <td>0.800000</td>\n",
       "      <td>0.789831</td>\n",
       "    </tr>\n",
       "    <tr>\n",
       "      <th>2</th>\n",
       "      <td>Regressão logística</td>\n",
       "      <td>0.725424</td>\n",
       "      <td>0.816949</td>\n",
       "      <td>0.816949</td>\n",
       "      <td>0.810169</td>\n",
       "    </tr>\n",
       "  </tbody>\n",
       "</table>\n",
       "</div>"
      ]
     },
     "execution_count": 150,
     "metadata": {},
     "output_type": "execute_result"
    }
   ],
   "execution_count": 150
  },
  {
   "metadata": {},
   "cell_type": "markdown",
   "source": [
    "Apenas a árvore de decisão conseguiu aumentar a acurácia, ainda que</br>\n",
    "o valor alcançado nçao apresentou varação significativa.</br>\n",
    "Como os outros valores estão inferiores e o citado está bem abaixo, os</br>\n",
    "resultados não serão exportados para o Kaggle.\n",
    "\n",
    "## 11) SELECIONANDO AS MELHORES VARIÁVEIS PARA O PROJETO\n",
    "---"
   ],
   "id": "c02397b4b14512da"
  },
  {
   "metadata": {
    "ExecuteTime": {
     "end_time": "2025-07-16T01:28:17.165872Z",
     "start_time": "2025-07-16T01:28:17.155855Z"
    }
   },
   "cell_type": "code",
   "source": "train.corr()",
   "id": "862594beb4dd12bd",
   "outputs": [
    {
     "data": {
      "text/plain": [
       "            Survived    Pclass       Sex       Age      Fare  Embarked_S  \\\n",
       "Survived    1.000000 -0.338481 -0.543351 -0.069809  0.257307   -0.149683   \n",
       "Pclass     -0.338481  1.000000  0.131900 -0.331339 -0.549500    0.074053   \n",
       "Sex        -0.543351  0.131900  1.000000  0.084153 -0.182333    0.119224   \n",
       "Age        -0.069809 -0.331339  0.084153  1.000000  0.091566   -0.019336   \n",
       "Fare        0.257307 -0.549500 -0.182333  0.091566  1.000000   -0.162184   \n",
       "Embarked_S -0.149683  0.074053  0.119224 -0.019336 -0.162184    1.000000   \n",
       "Embarked_C  0.168240 -0.243292 -0.082853  0.032024  0.269335   -0.782742   \n",
       "Embarked_Q  0.003650  0.221009 -0.074115 -0.013855 -0.117216   -0.499421   \n",
       "Sozinho    -0.203367  0.135207  0.303646  0.179775 -0.271832    0.029074   \n",
       "Familiares  0.016639  0.065997 -0.200988 -0.248512  0.217138    0.077359   \n",
       "\n",
       "            Embarked_C  Embarked_Q   Sozinho  Familiares  \n",
       "Survived      0.168240    0.003650 -0.203367    0.016639  \n",
       "Pclass       -0.243292    0.221009  0.135207    0.065997  \n",
       "Sex          -0.082853   -0.074115  0.303646   -0.200988  \n",
       "Age           0.032024   -0.013855  0.179775   -0.248512  \n",
       "Fare          0.269335   -0.117216 -0.271832    0.217138  \n",
       "Embarked_S   -0.782742   -0.499421  0.029074    0.077359  \n",
       "Embarked_C    1.000000   -0.148258 -0.095298   -0.046215  \n",
       "Embarked_Q   -0.148258    1.000000  0.086464   -0.058592  \n",
       "Sozinho      -0.095298    0.086464  1.000000   -0.690922  \n",
       "Familiares   -0.046215   -0.058592 -0.690922    1.000000  "
      ],
      "text/html": [
       "<div>\n",
       "<style scoped>\n",
       "    .dataframe tbody tr th:only-of-type {\n",
       "        vertical-align: middle;\n",
       "    }\n",
       "\n",
       "    .dataframe tbody tr th {\n",
       "        vertical-align: top;\n",
       "    }\n",
       "\n",
       "    .dataframe thead th {\n",
       "        text-align: right;\n",
       "    }\n",
       "</style>\n",
       "<table border=\"1\" class=\"dataframe\">\n",
       "  <thead>\n",
       "    <tr style=\"text-align: right;\">\n",
       "      <th></th>\n",
       "      <th>Survived</th>\n",
       "      <th>Pclass</th>\n",
       "      <th>Sex</th>\n",
       "      <th>Age</th>\n",
       "      <th>Fare</th>\n",
       "      <th>Embarked_S</th>\n",
       "      <th>Embarked_C</th>\n",
       "      <th>Embarked_Q</th>\n",
       "      <th>Sozinho</th>\n",
       "      <th>Familiares</th>\n",
       "    </tr>\n",
       "  </thead>\n",
       "  <tbody>\n",
       "    <tr>\n",
       "      <th>Survived</th>\n",
       "      <td>1.000000</td>\n",
       "      <td>-0.338481</td>\n",
       "      <td>-0.543351</td>\n",
       "      <td>-0.069809</td>\n",
       "      <td>0.257307</td>\n",
       "      <td>-0.149683</td>\n",
       "      <td>0.168240</td>\n",
       "      <td>0.003650</td>\n",
       "      <td>-0.203367</td>\n",
       "      <td>0.016639</td>\n",
       "    </tr>\n",
       "    <tr>\n",
       "      <th>Pclass</th>\n",
       "      <td>-0.338481</td>\n",
       "      <td>1.000000</td>\n",
       "      <td>0.131900</td>\n",
       "      <td>-0.331339</td>\n",
       "      <td>-0.549500</td>\n",
       "      <td>0.074053</td>\n",
       "      <td>-0.243292</td>\n",
       "      <td>0.221009</td>\n",
       "      <td>0.135207</td>\n",
       "      <td>0.065997</td>\n",
       "    </tr>\n",
       "    <tr>\n",
       "      <th>Sex</th>\n",
       "      <td>-0.543351</td>\n",
       "      <td>0.131900</td>\n",
       "      <td>1.000000</td>\n",
       "      <td>0.084153</td>\n",
       "      <td>-0.182333</td>\n",
       "      <td>0.119224</td>\n",
       "      <td>-0.082853</td>\n",
       "      <td>-0.074115</td>\n",
       "      <td>0.303646</td>\n",
       "      <td>-0.200988</td>\n",
       "    </tr>\n",
       "    <tr>\n",
       "      <th>Age</th>\n",
       "      <td>-0.069809</td>\n",
       "      <td>-0.331339</td>\n",
       "      <td>0.084153</td>\n",
       "      <td>1.000000</td>\n",
       "      <td>0.091566</td>\n",
       "      <td>-0.019336</td>\n",
       "      <td>0.032024</td>\n",
       "      <td>-0.013855</td>\n",
       "      <td>0.179775</td>\n",
       "      <td>-0.248512</td>\n",
       "    </tr>\n",
       "    <tr>\n",
       "      <th>Fare</th>\n",
       "      <td>0.257307</td>\n",
       "      <td>-0.549500</td>\n",
       "      <td>-0.182333</td>\n",
       "      <td>0.091566</td>\n",
       "      <td>1.000000</td>\n",
       "      <td>-0.162184</td>\n",
       "      <td>0.269335</td>\n",
       "      <td>-0.117216</td>\n",
       "      <td>-0.271832</td>\n",
       "      <td>0.217138</td>\n",
       "    </tr>\n",
       "    <tr>\n",
       "      <th>Embarked_S</th>\n",
       "      <td>-0.149683</td>\n",
       "      <td>0.074053</td>\n",
       "      <td>0.119224</td>\n",
       "      <td>-0.019336</td>\n",
       "      <td>-0.162184</td>\n",
       "      <td>1.000000</td>\n",
       "      <td>-0.782742</td>\n",
       "      <td>-0.499421</td>\n",
       "      <td>0.029074</td>\n",
       "      <td>0.077359</td>\n",
       "    </tr>\n",
       "    <tr>\n",
       "      <th>Embarked_C</th>\n",
       "      <td>0.168240</td>\n",
       "      <td>-0.243292</td>\n",
       "      <td>-0.082853</td>\n",
       "      <td>0.032024</td>\n",
       "      <td>0.269335</td>\n",
       "      <td>-0.782742</td>\n",
       "      <td>1.000000</td>\n",
       "      <td>-0.148258</td>\n",
       "      <td>-0.095298</td>\n",
       "      <td>-0.046215</td>\n",
       "    </tr>\n",
       "    <tr>\n",
       "      <th>Embarked_Q</th>\n",
       "      <td>0.003650</td>\n",
       "      <td>0.221009</td>\n",
       "      <td>-0.074115</td>\n",
       "      <td>-0.013855</td>\n",
       "      <td>-0.117216</td>\n",
       "      <td>-0.499421</td>\n",
       "      <td>-0.148258</td>\n",
       "      <td>1.000000</td>\n",
       "      <td>0.086464</td>\n",
       "      <td>-0.058592</td>\n",
       "    </tr>\n",
       "    <tr>\n",
       "      <th>Sozinho</th>\n",
       "      <td>-0.203367</td>\n",
       "      <td>0.135207</td>\n",
       "      <td>0.303646</td>\n",
       "      <td>0.179775</td>\n",
       "      <td>-0.271832</td>\n",
       "      <td>0.029074</td>\n",
       "      <td>-0.095298</td>\n",
       "      <td>0.086464</td>\n",
       "      <td>1.000000</td>\n",
       "      <td>-0.690922</td>\n",
       "    </tr>\n",
       "    <tr>\n",
       "      <th>Familiares</th>\n",
       "      <td>0.016639</td>\n",
       "      <td>0.065997</td>\n",
       "      <td>-0.200988</td>\n",
       "      <td>-0.248512</td>\n",
       "      <td>0.217138</td>\n",
       "      <td>0.077359</td>\n",
       "      <td>-0.046215</td>\n",
       "      <td>-0.058592</td>\n",
       "      <td>-0.690922</td>\n",
       "      <td>1.000000</td>\n",
       "    </tr>\n",
       "  </tbody>\n",
       "</table>\n",
       "</div>"
      ]
     },
     "execution_count": 151,
     "metadata": {},
     "output_type": "execute_result"
    }
   ],
   "execution_count": 151
  },
  {
   "metadata": {
    "ExecuteTime": {
     "end_time": "2025-07-16T01:28:17.415858Z",
     "start_time": "2025-07-16T01:28:17.326614Z"
    }
   },
   "cell_type": "code",
   "source": [
    "fig, ax = plt.subplots(figsize=(10,6))\n",
    "sns.heatmap(train.corr(), annot=True, ax=ax)\n",
    "plt.show()"
   ],
   "id": "2dbd2e9ff77f0dc8",
   "outputs": [],
   "execution_count": 152
  },
  {
   "metadata": {},
   "cell_type": "markdown",
   "source": [
    "A maior relação entre as variáveis está se dando entre Fare e Pclass.\n",
    "### Relação entre Fare e Pclass"
   ],
   "id": "249c716deef0f1e8"
  },
  {
   "metadata": {
    "ExecuteTime": {
     "end_time": "2025-07-16T01:28:17.522709Z",
     "start_time": "2025-07-16T01:28:17.471414Z"
    }
   },
   "cell_type": "code",
   "source": [
    "fig, ax = plt.subplots(figsize=(10,6))\n",
    "\n",
    "sns.boxplot(data=train, x='Pclass', y='Fare', hue='Survived')\n",
    "ax.set_title('Pclass x Fare')\n",
    "\n",
    "plt.show()"
   ],
   "id": "b11c3c96255cd624",
   "outputs": [],
   "execution_count": 153
  },
  {
   "metadata": {},
   "cell_type": "markdown",
   "source": [
    "Entre os passageiros da prieira classe o preço pago na passagem influenciou</br>\n",
    "muito a taxa de sobrevivência.\n",
    "### Examinando a taxa de sobrevivência em cada classe\n",
    "Porcentagem de sobreviventes em cada classe."
   ],
   "id": "ccdb1485b15c0894"
  },
  {
   "metadata": {
    "ExecuteTime": {
     "end_time": "2025-07-16T01:28:17.599333Z",
     "start_time": "2025-07-16T01:28:17.593336Z"
    }
   },
   "cell_type": "code",
   "source": "train.groupby('Pclass')['Survived'].mean()",
   "id": "68b1cd4c505bad08",
   "outputs": [
    {
     "data": {
      "text/plain": [
       "Pclass\n",
       "1    0.629630\n",
       "2    0.472826\n",
       "3    0.242363\n",
       "Name: Survived, dtype: float64"
      ]
     },
     "execution_count": 154,
     "metadata": {},
     "output_type": "execute_result"
    }
   ],
   "execution_count": 154
  },
  {
   "metadata": {},
   "cell_type": "markdown",
   "source": [
    "Valor médio dos passageiros que sobreviveram e que não sobreviveram para cada classe.</br>\n",
    "A escala dos dados já foi modificada."
   ],
   "id": "1732a4ea73ea365f"
  },
  {
   "metadata": {
    "ExecuteTime": {
     "end_time": "2025-07-16T01:28:17.680167Z",
     "start_time": "2025-07-16T01:28:17.674596Z"
    }
   },
   "cell_type": "code",
   "source": "train.groupby(['Pclass', 'Survived'])['Fare'].mean()",
   "id": "8bebe4e6f326e003",
   "outputs": [
    {
     "data": {
      "text/plain": [
       "Pclass  Survived\n",
       "1       0           2.175430\n",
       "        1           3.514735\n",
       "2       0           0.214734\n",
       "        1           0.329217\n",
       "3       0          -0.033991\n",
       "        1          -0.032885\n",
       "Name: Fare, dtype: float64"
      ]
     },
     "execution_count": 155,
     "metadata": {},
     "output_type": "execute_result"
    }
   ],
   "execution_count": 155
  },
  {
   "metadata": {},
   "cell_type": "markdown",
   "source": "Há uma grande diferença do valor na primeira classe, bem menos na segunda e inconclusivo na terceira.",
   "id": "1812a25a47a2f8f7"
  },
  {
   "metadata": {
    "ExecuteTime": {
     "end_time": "2025-07-16T01:28:17.855996Z",
     "start_time": "2025-07-16T01:28:17.846862Z"
    }
   },
   "cell_type": "code",
   "source": "train.groupby(['Pclass', 'Survived'])['Fare'].agg(['min', 'mean', 'max', 'sum', 'count'])",
   "id": "bc43fb2e2b79f614",
   "outputs": [
    {
     "data": {
      "text/plain": [
       "                      min      mean        max         sum  count\n",
       "Pclass Survived                                                  \n",
       "1      0        -0.626005  2.175430  10.764405  174.034396     80\n",
       "       1         0.496977  3.514735  21.562738  478.003980    136\n",
       "2      0        -0.626005  0.214734   2.557247   20.829222     97\n",
       "       1        -0.171255  0.329217   2.189115   28.641921     87\n",
       "3      0        -0.626005 -0.033991   2.386174  -12.644606    372\n",
       "       1        -0.626005 -0.032885   1.820802   -3.913372    119"
      ],
      "text/html": [
       "<div>\n",
       "<style scoped>\n",
       "    .dataframe tbody tr th:only-of-type {\n",
       "        vertical-align: middle;\n",
       "    }\n",
       "\n",
       "    .dataframe tbody tr th {\n",
       "        vertical-align: top;\n",
       "    }\n",
       "\n",
       "    .dataframe thead th {\n",
       "        text-align: right;\n",
       "    }\n",
       "</style>\n",
       "<table border=\"1\" class=\"dataframe\">\n",
       "  <thead>\n",
       "    <tr style=\"text-align: right;\">\n",
       "      <th></th>\n",
       "      <th></th>\n",
       "      <th>min</th>\n",
       "      <th>mean</th>\n",
       "      <th>max</th>\n",
       "      <th>sum</th>\n",
       "      <th>count</th>\n",
       "    </tr>\n",
       "    <tr>\n",
       "      <th>Pclass</th>\n",
       "      <th>Survived</th>\n",
       "      <th></th>\n",
       "      <th></th>\n",
       "      <th></th>\n",
       "      <th></th>\n",
       "      <th></th>\n",
       "    </tr>\n",
       "  </thead>\n",
       "  <tbody>\n",
       "    <tr>\n",
       "      <th rowspan=\"2\" valign=\"top\">1</th>\n",
       "      <th>0</th>\n",
       "      <td>-0.626005</td>\n",
       "      <td>2.175430</td>\n",
       "      <td>10.764405</td>\n",
       "      <td>174.034396</td>\n",
       "      <td>80</td>\n",
       "    </tr>\n",
       "    <tr>\n",
       "      <th>1</th>\n",
       "      <td>0.496977</td>\n",
       "      <td>3.514735</td>\n",
       "      <td>21.562738</td>\n",
       "      <td>478.003980</td>\n",
       "      <td>136</td>\n",
       "    </tr>\n",
       "    <tr>\n",
       "      <th rowspan=\"2\" valign=\"top\">2</th>\n",
       "      <th>0</th>\n",
       "      <td>-0.626005</td>\n",
       "      <td>0.214734</td>\n",
       "      <td>2.557247</td>\n",
       "      <td>20.829222</td>\n",
       "      <td>97</td>\n",
       "    </tr>\n",
       "    <tr>\n",
       "      <th>1</th>\n",
       "      <td>-0.171255</td>\n",
       "      <td>0.329217</td>\n",
       "      <td>2.189115</td>\n",
       "      <td>28.641921</td>\n",
       "      <td>87</td>\n",
       "    </tr>\n",
       "    <tr>\n",
       "      <th rowspan=\"2\" valign=\"top\">3</th>\n",
       "      <th>0</th>\n",
       "      <td>-0.626005</td>\n",
       "      <td>-0.033991</td>\n",
       "      <td>2.386174</td>\n",
       "      <td>-12.644606</td>\n",
       "      <td>372</td>\n",
       "    </tr>\n",
       "    <tr>\n",
       "      <th>1</th>\n",
       "      <td>-0.626005</td>\n",
       "      <td>-0.032885</td>\n",
       "      <td>1.820802</td>\n",
       "      <td>-3.913372</td>\n",
       "      <td>119</td>\n",
       "    </tr>\n",
       "  </tbody>\n",
       "</table>\n",
       "</div>"
      ]
     },
     "execution_count": 156,
     "metadata": {},
     "output_type": "execute_result"
    }
   ],
   "execution_count": 156
  },
  {
   "metadata": {},
   "cell_type": "markdown",
   "source": [
    "### Considerando uma cardinalidade para o porto de embarque e eliminando o One-Hot-Encoding\n",
    "Importação novamente da variável Embarked e eliminação do One-Hote-Encoding.</br>\n",
    "Os portos apresentam variação no tempo de viagem e isto será levado em consideração</br>\n",
    "para a criação de uma cardinalidade entre os dados.</br>\n",
    "Serão colocados 'S' como 0, 'C' como 1 e 'Q' como 2.</br>\n",
    "Os valores nulos são substituídos pela moda."
   ],
   "id": "6d8c427f557aa25a"
  },
  {
   "metadata": {
    "ExecuteTime": {
     "end_time": "2025-07-16T01:28:18.045315Z",
     "start_time": "2025-07-16T01:28:18.031449Z"
    }
   },
   "cell_type": "code",
   "source": [
    "train2 = pd.read_csv('DATA/train.csv')\n",
    "test2 = pd.read_csv('DATA/test.csv')\n",
    "\n",
    "train2['Embarked'] = train2['Embarked'].fillna('S')\n",
    "\n",
    "train2['Embarked'] = train2['Embarked'].replace({'S': 0, 'C': 1, 'Q': 2}).astype(int)\n",
    "test2['Embarked'] = test2['Embarked'].replace({'S': 0, 'C': 1, 'Q': 2}).astype(int)\n",
    "\n",
    "train = train.assign(Embarked=train2['Embarked'].values)\n",
    "test = test.assign(Embarked=test2['Embarked'].values)\n",
    "\n",
    "train.drop(columns = ['Embarked_C', 'Embarked_Q', 'Embarked_S'], inplace=True)\n",
    "test.drop(columns = ['Embarked_C', 'Embarked_Q', 'Embarked_S'], inplace=True)"
   ],
   "id": "e0a8cc823fc3d44c",
   "outputs": [],
   "execution_count": 157
  },
  {
   "metadata": {
    "ExecuteTime": {
     "end_time": "2025-07-16T01:28:18.174076Z",
     "start_time": "2025-07-16T01:28:18.167527Z"
    }
   },
   "cell_type": "code",
   "source": "train.head(2)",
   "id": "e6334896e60f3a4b",
   "outputs": [
    {
     "data": {
      "text/plain": [
       "   Survived  Pclass  Sex       Age      Fare  Sozinho  Familiares  Embarked\n",
       "0         0       3    1 -0.592240 -0.312011        0           1         0\n",
       "1         1       1    0  0.638529  2.461242        0           1         1"
      ],
      "text/html": [
       "<div>\n",
       "<style scoped>\n",
       "    .dataframe tbody tr th:only-of-type {\n",
       "        vertical-align: middle;\n",
       "    }\n",
       "\n",
       "    .dataframe tbody tr th {\n",
       "        vertical-align: top;\n",
       "    }\n",
       "\n",
       "    .dataframe thead th {\n",
       "        text-align: right;\n",
       "    }\n",
       "</style>\n",
       "<table border=\"1\" class=\"dataframe\">\n",
       "  <thead>\n",
       "    <tr style=\"text-align: right;\">\n",
       "      <th></th>\n",
       "      <th>Survived</th>\n",
       "      <th>Pclass</th>\n",
       "      <th>Sex</th>\n",
       "      <th>Age</th>\n",
       "      <th>Fare</th>\n",
       "      <th>Sozinho</th>\n",
       "      <th>Familiares</th>\n",
       "      <th>Embarked</th>\n",
       "    </tr>\n",
       "  </thead>\n",
       "  <tbody>\n",
       "    <tr>\n",
       "      <th>0</th>\n",
       "      <td>0</td>\n",
       "      <td>3</td>\n",
       "      <td>1</td>\n",
       "      <td>-0.592240</td>\n",
       "      <td>-0.312011</td>\n",
       "      <td>0</td>\n",
       "      <td>1</td>\n",
       "      <td>0</td>\n",
       "    </tr>\n",
       "    <tr>\n",
       "      <th>1</th>\n",
       "      <td>1</td>\n",
       "      <td>1</td>\n",
       "      <td>0</td>\n",
       "      <td>0.638529</td>\n",
       "      <td>2.461242</td>\n",
       "      <td>0</td>\n",
       "      <td>1</td>\n",
       "      <td>1</td>\n",
       "    </tr>\n",
       "  </tbody>\n",
       "</table>\n",
       "</div>"
      ]
     },
     "execution_count": 158,
     "metadata": {},
     "output_type": "execute_result"
    }
   ],
   "execution_count": 158
  },
  {
   "metadata": {},
   "cell_type": "markdown",
   "source": [
    "## 12) APLICAÇÃO DOS MODELOS\n",
    "---"
   ],
   "id": "d66925cb23182720"
  },
  {
   "metadata": {
    "ExecuteTime": {
     "end_time": "2025-07-16T01:28:18.332064Z",
     "start_time": "2025-07-16T01:28:18.295837Z"
    }
   },
   "cell_type": "code",
   "source": [
    "X = train.drop('Survived', axis=1)\n",
    "y = train['Survived']\n",
    "\n",
    "X_train, X_val, y_train, y_val = train_test_split(X, y, test_size=0.33, random_state=42)\n",
    "\n",
    "clf_tree = tree.DecisionTreeClassifier(random_state = 42)\n",
    "clf_tree = clf_tree.fit(X_train, y_train)\n",
    "pred_tree = clf_tree.predict(X_val)\n",
    "\n",
    "clf_knn = KNeighborsClassifier(n_neighbors=5)\n",
    "clf_knn .fit(X_train, y_train)\n",
    "pred_knn = clf_knn .predict(X_val)\n",
    "\n",
    "clf = LogisticRegression(random_state=42)\n",
    "clf.fit(X_train, y_train)\n",
    "pred_log = clf.predict(X_val)\n",
    "\n",
    "acuracia_tree = accuracy_score(y_val, pred_tree)\n",
    "acuracia_knn = accuracy_score(y_val, pred_knn)\n",
    "acuracia_rl = accuracy_score(y_val, pred_log)\n",
    "\n",
    "acuracia['Porto'] = [acuracia_tree, acuracia_knn, acuracia_rl]\n",
    "\n",
    "acuracia"
   ],
   "id": "1add19a8b3af2e2a",
   "outputs": [
    {
     "data": {
      "text/plain": [
       "               Modelos  Somente Numéricos  Sex e OHE    Escala  Familiares  \\\n",
       "0    Árvore de decisão           0.616949   0.738983  0.738983    0.749153   \n",
       "1                  KNN           0.667797   0.705085  0.800000    0.789831   \n",
       "2  Regressão logística           0.725424   0.816949  0.816949    0.810169   \n",
       "\n",
       "      Porto  \n",
       "0  0.766102  \n",
       "1  0.816949  \n",
       "2  0.810169  "
      ],
      "text/html": [
       "<div>\n",
       "<style scoped>\n",
       "    .dataframe tbody tr th:only-of-type {\n",
       "        vertical-align: middle;\n",
       "    }\n",
       "\n",
       "    .dataframe tbody tr th {\n",
       "        vertical-align: top;\n",
       "    }\n",
       "\n",
       "    .dataframe thead th {\n",
       "        text-align: right;\n",
       "    }\n",
       "</style>\n",
       "<table border=\"1\" class=\"dataframe\">\n",
       "  <thead>\n",
       "    <tr style=\"text-align: right;\">\n",
       "      <th></th>\n",
       "      <th>Modelos</th>\n",
       "      <th>Somente Numéricos</th>\n",
       "      <th>Sex e OHE</th>\n",
       "      <th>Escala</th>\n",
       "      <th>Familiares</th>\n",
       "      <th>Porto</th>\n",
       "    </tr>\n",
       "  </thead>\n",
       "  <tbody>\n",
       "    <tr>\n",
       "      <th>0</th>\n",
       "      <td>Árvore de decisão</td>\n",
       "      <td>0.616949</td>\n",
       "      <td>0.738983</td>\n",
       "      <td>0.738983</td>\n",
       "      <td>0.749153</td>\n",
       "      <td>0.766102</td>\n",
       "    </tr>\n",
       "    <tr>\n",
       "      <th>1</th>\n",
       "      <td>KNN</td>\n",
       "      <td>0.667797</td>\n",
       "      <td>0.705085</td>\n",
       "      <td>0.800000</td>\n",
       "      <td>0.789831</td>\n",
       "      <td>0.816949</td>\n",
       "    </tr>\n",
       "    <tr>\n",
       "      <th>2</th>\n",
       "      <td>Regressão logística</td>\n",
       "      <td>0.725424</td>\n",
       "      <td>0.816949</td>\n",
       "      <td>0.816949</td>\n",
       "      <td>0.810169</td>\n",
       "      <td>0.810169</td>\n",
       "    </tr>\n",
       "  </tbody>\n",
       "</table>\n",
       "</div>"
      ]
     },
     "execution_count": 159,
     "metadata": {},
     "output_type": "execute_result"
    }
   ],
   "execution_count": 159
  },
  {
   "metadata": {},
   "cell_type": "markdown",
   "source": [
    "Neste caso não hove aumento da acurácia para Regressão logística.</br>\n",
    "A Árvore de decisão e KNN apresentaram aumento e para este exemplo houve </br>\n",
    "auteração no número de vizinhos no KNN, anteriormente eram 3 e agora foram 5.</br>\n",
    "Como resultado, a acurária utrapaçou o valor obtido pela Árvore de decisão.\n",
    "### Exportação para o Kaggle\n",
    "Novamente o KNN foi escolhido para apresentar o resultados nos dados de teste."
   ],
   "id": "80cda8b4ae15e2bc"
  },
  {
   "metadata": {
    "ExecuteTime": {
     "end_time": "2025-07-16T01:28:18.510358Z",
     "start_time": "2025-07-16T01:28:18.485930Z"
    }
   },
   "cell_type": "code",
   "source": [
    "df_desafio = pd.DataFrame()\n",
    "df_desafio['PassengerId'] = test['PassengerId']\n",
    "X_test = test.drop(['PassengerId'], axis = 1)\n",
    "y_pred = clf_knn.predict(X_test)\n",
    "df_desafio['Survived'] = y_pred\n",
    "\n",
    "df_desafio.to_csv('Export/porto.csv', index = False)"
   ],
   "id": "54a648ee5b29d725",
   "outputs": [],
   "execution_count": 160
  },
  {
   "metadata": {},
   "cell_type": "markdown",
   "source": [
    "<img src=\"IMG/im4.png\" width=\"500\" height=\"800\">\n",
    "\n",
    "Houve um pequeno aumento para o KNN mas ainda não atingiu a maior validação.\n",
    "## 13) APLICAÇÃO DE NOVOS MODELOS AOS DADOS\n",
    "---\n",
    "Serão adicionados o Random Forest e o MLP."
   ],
   "id": "19ddae0388829d9"
  },
  {
   "metadata": {
    "ExecuteTime": {
     "end_time": "2025-07-16T01:28:18.649956Z",
     "start_time": "2025-07-16T01:28:18.645938Z"
    }
   },
   "cell_type": "code",
   "source": [
    "aux = pd.DataFrame({\n",
    "    'Modelos':['Random Forest', 'MLP'],\n",
    "    'Somente Numéricos': [0,0],\n",
    "    'Sex e OHE':[0,0],\n",
    "    'Escala':[0,0],\n",
    "    'Familiares':[0,0],\n",
    "    'Porto':[0,0],\n",
    "})\n",
    "\n",
    "acuracia = pd.concat([acuracia, aux], axis=0)"
   ],
   "id": "2ead486b851b6458",
   "outputs": [],
   "execution_count": 161
  },
  {
   "metadata": {
    "ExecuteTime": {
     "end_time": "2025-07-16T01:28:20.032737Z",
     "start_time": "2025-07-16T01:28:18.801888Z"
    }
   },
   "cell_type": "code",
   "source": [
    "X = train.drop(['Survived'], axis = 1)\n",
    "y = train.Survived\n",
    "\n",
    "X_train, X_val, y_train, y_val = train_test_split(X, y, test_size=0.33, random_state=42)\n",
    "\n",
    "clf_rf = RandomForestClassifier(random_state=42)\n",
    "clf_rf = clf_rf.fit(X_train, y_train)\n",
    "pred_rf = clf_rf.predict(X_val)\n",
    "\n",
    "clf_mlp = MLPClassifier(random_state=42, max_iter=5000)\n",
    "clf_mlp = clf_mlp.fit(X_train, y_train)\n",
    "pred_mlp = clf_mlp.predict(X_val)\n",
    "\n",
    "acuracia_rf = accuracy_score(y_val, pred_rf)\n",
    "acuracia_mlp = accuracy_score(y_val, pred_mlp)\n",
    "\n",
    "acuracia['Algs'] = [acuracia_tree, acuracia_knn, acuracia_rl, acuracia_rf, acuracia_mlp]\n",
    "\n",
    "acuracia"
   ],
   "id": "4333bae797ae5d7e",
   "outputs": [
    {
     "data": {
      "text/plain": [
       "               Modelos  Somente Numéricos  Sex e OHE    Escala  Familiares  \\\n",
       "0    Árvore de decisão           0.616949   0.738983  0.738983    0.749153   \n",
       "1                  KNN           0.667797   0.705085  0.800000    0.789831   \n",
       "2  Regressão logística           0.725424   0.816949  0.816949    0.810169   \n",
       "0        Random Forest           0.000000   0.000000  0.000000    0.000000   \n",
       "1                  MLP           0.000000   0.000000  0.000000    0.000000   \n",
       "\n",
       "      Porto      Algs  \n",
       "0  0.766102  0.766102  \n",
       "1  0.816949  0.816949  \n",
       "2  0.810169  0.810169  \n",
       "0  0.000000  0.786441  \n",
       "1  0.000000  0.827119  "
      ],
      "text/html": [
       "<div>\n",
       "<style scoped>\n",
       "    .dataframe tbody tr th:only-of-type {\n",
       "        vertical-align: middle;\n",
       "    }\n",
       "\n",
       "    .dataframe tbody tr th {\n",
       "        vertical-align: top;\n",
       "    }\n",
       "\n",
       "    .dataframe thead th {\n",
       "        text-align: right;\n",
       "    }\n",
       "</style>\n",
       "<table border=\"1\" class=\"dataframe\">\n",
       "  <thead>\n",
       "    <tr style=\"text-align: right;\">\n",
       "      <th></th>\n",
       "      <th>Modelos</th>\n",
       "      <th>Somente Numéricos</th>\n",
       "      <th>Sex e OHE</th>\n",
       "      <th>Escala</th>\n",
       "      <th>Familiares</th>\n",
       "      <th>Porto</th>\n",
       "      <th>Algs</th>\n",
       "    </tr>\n",
       "  </thead>\n",
       "  <tbody>\n",
       "    <tr>\n",
       "      <th>0</th>\n",
       "      <td>Árvore de decisão</td>\n",
       "      <td>0.616949</td>\n",
       "      <td>0.738983</td>\n",
       "      <td>0.738983</td>\n",
       "      <td>0.749153</td>\n",
       "      <td>0.766102</td>\n",
       "      <td>0.766102</td>\n",
       "    </tr>\n",
       "    <tr>\n",
       "      <th>1</th>\n",
       "      <td>KNN</td>\n",
       "      <td>0.667797</td>\n",
       "      <td>0.705085</td>\n",
       "      <td>0.800000</td>\n",
       "      <td>0.789831</td>\n",
       "      <td>0.816949</td>\n",
       "      <td>0.816949</td>\n",
       "    </tr>\n",
       "    <tr>\n",
       "      <th>2</th>\n",
       "      <td>Regressão logística</td>\n",
       "      <td>0.725424</td>\n",
       "      <td>0.816949</td>\n",
       "      <td>0.816949</td>\n",
       "      <td>0.810169</td>\n",
       "      <td>0.810169</td>\n",
       "      <td>0.810169</td>\n",
       "    </tr>\n",
       "    <tr>\n",
       "      <th>0</th>\n",
       "      <td>Random Forest</td>\n",
       "      <td>0.000000</td>\n",
       "      <td>0.000000</td>\n",
       "      <td>0.000000</td>\n",
       "      <td>0.000000</td>\n",
       "      <td>0.000000</td>\n",
       "      <td>0.786441</td>\n",
       "    </tr>\n",
       "    <tr>\n",
       "      <th>1</th>\n",
       "      <td>MLP</td>\n",
       "      <td>0.000000</td>\n",
       "      <td>0.000000</td>\n",
       "      <td>0.000000</td>\n",
       "      <td>0.000000</td>\n",
       "      <td>0.000000</td>\n",
       "      <td>0.827119</td>\n",
       "    </tr>\n",
       "  </tbody>\n",
       "</table>\n",
       "</div>"
      ]
     },
     "execution_count": 163,
     "metadata": {},
     "output_type": "execute_result"
    }
   ],
   "execution_count": 163
  },
  {
   "metadata": {},
   "cell_type": "markdown",
   "source": [
    "### Exportação ao Kaggle\n",
    "O MLP apresentou resultados de acurácia ainda maior então será utilizado no envio de resultados ao Kaggle."
   ],
   "id": "ab2ef59f91f4f26e"
  },
  {
   "metadata": {
    "ExecuteTime": {
     "end_time": "2025-07-16T01:28:20.119926Z",
     "start_time": "2025-07-16T01:28:20.112562Z"
    }
   },
   "cell_type": "code",
   "source": [
    "df_desafio = pd.DataFrame()\n",
    "df_desafio['PassengerId'] = test['PassengerId']\n",
    "X_test = test.drop(['PassengerId'], axis = 1)\n",
    "y_pred = clf_mlp.predict(X_test)\n",
    "df_desafio['Survived'] = y_pred\n",
    "\n",
    "df_desafio.to_csv('Export/algoritmos.csv', index = False)"
   ],
   "id": "ea3de62a69e4cca1",
   "outputs": [],
   "execution_count": 164
  },
  {
   "metadata": {},
   "cell_type": "markdown",
   "source": [
    "<img src=\"IMG/im5.png\" width=\"500\" height=\"800\">\n",
    "\n",
    "Apesar da acurácia nos dados de teste ser o maior valor já obtido</br>\n",
    "o resultado nos dados de treino foram bem mais baixos e isso pode se dar </br>\n",
    "devido a um Overfitting.\n",
    "\n",
    "## 14) TUNING DOS PARÂMETROS\n",
    "---\n",
    "Os parâmetros de cada modelo serão variados e selecionados de acordo com a maior acurácia.<br>\n",
    "Para isso o tamanho da divisão dos dados para teste e validação deve ser menor."
   ],
   "id": "1feb529edac8a85e"
  },
  {
   "metadata": {
    "ExecuteTime": {
     "end_time": "2025-07-16T01:28:20.214562Z",
     "start_time": "2025-07-16T01:28:20.208720Z"
    }
   },
   "cell_type": "code",
   "source": [
    "X = train.drop('Survived', axis=1)\n",
    "y = train.Survived\n",
    "\n",
    "X_train, X_val, y_train, y_val = train_test_split(X, y, test_size=0.2, random_state=42)"
   ],
   "id": "908a3c05582736ac",
   "outputs": [],
   "execution_count": 165
  },
  {
   "metadata": {},
   "cell_type": "markdown",
   "source": [
    "### Grupos de possíveis parâmetros para o teste do resultado\n",
    "Regressão logística"
   ],
   "id": "d46855a42638bd6a"
  },
  {
   "metadata": {
    "ExecuteTime": {
     "end_time": "2025-07-16T01:28:20.315965Z",
     "start_time": "2025-07-16T01:28:20.312928Z"
    }
   },
   "cell_type": "code",
   "source": [
    "clf_rl = LogisticRegression(random_state=42)\n",
    "\n",
    "parametros_rl = {\n",
    "    'penalty': ['l1','l2'],\n",
    "    'C': [0.05,0.1,0.15,0.2],\n",
    "    'solver': ['lbfgs','liblinear','saga'],\n",
    "    'max_iter': [100,1000,5000,10000, 50000]\n",
    "}"
   ],
   "id": "c44e141553ef5528",
   "outputs": [],
   "execution_count": 166
  },
  {
   "metadata": {},
   "cell_type": "markdown",
   "source": "Random Forest",
   "id": "16a274b480e36d32"
  },
  {
   "metadata": {
    "ExecuteTime": {
     "end_time": "2025-07-16T01:28:20.361823Z",
     "start_time": "2025-07-16T01:28:20.357773Z"
    }
   },
   "cell_type": "code",
   "source": [
    "clf_rf = RandomForestClassifier(random_state=42)\n",
    "\n",
    "parametros_rf = {\n",
    "    'n_estimators': [30, 50, 60, 70, 80, 100, 150],\n",
    "    'criterion': ['gini','entropy','log_loss'],\n",
    "    'max_depth': [2,4,6,8,None],\n",
    "    'max_features': ['sqrt','log2',None]\n",
    "}"
   ],
   "id": "66053312fca1a88a",
   "outputs": [],
   "execution_count": 167
  },
  {
   "metadata": {},
   "cell_type": "markdown",
   "source": "MLP",
   "id": "6daf5c7023216396"
  },
  {
   "metadata": {
    "ExecuteTime": {
     "end_time": "2025-07-16T01:28:20.409685Z",
     "start_time": "2025-07-16T01:28:20.405559Z"
    }
   },
   "cell_type": "code",
   "source": [
    "clf_mlp = MLPClassifier(random_state=42)\n",
    "\n",
    "parametros_mlp = {\n",
    "    'solver':  ['lbfgs','sgd','adam'],\n",
    "    'alpha': [10.0**(-1),10.0**(-5),10.0**(-7),10.0**(-10)],\n",
    "    'max_iter': [200,500,1000,5000]\n",
    "}"
   ],
   "id": "6d25a8a4d2d83c8a",
   "outputs": [],
   "execution_count": 168
  },
  {
   "metadata": {},
   "cell_type": "markdown",
   "source": "#### Função para acompanhamento do tempo de execução",
   "id": "e2d3570e4b1a332f"
  },
  {
   "metadata": {
    "ExecuteTime": {
     "end_time": "2025-07-16T01:28:20.466310Z",
     "start_time": "2025-07-16T01:28:20.463245Z"
    }
   },
   "cell_type": "code",
   "source": [
    "def mostra_hora():\n",
    "    agora = datetime.now()\n",
    "    print(str(agora.hour)+':'+str(agora.minute)+':'+str(agora.second))"
   ],
   "id": "4470f08393b4e8a",
   "outputs": [],
   "execution_count": 169
  },
  {
   "metadata": {},
   "cell_type": "markdown",
   "source": [
    "### Obtendo os melhores parâmetro\n",
    "Acompanhamento dos tempos para a variação dos parâmetros em cada algoritmo."
   ],
   "id": "f5cd2f4aeddb0730"
  },
  {
   "metadata": {
    "ExecuteTime": {
     "end_time": "2025-07-16T01:28:26.870026Z",
     "start_time": "2025-07-16T01:28:20.512006Z"
    }
   },
   "cell_type": "code",
   "source": [
    "#Regressão Logística\n",
    "mostra_hora()\n",
    "kfold_rl = KFold(shuffle=True, random_state=42,n_splits=8)\n",
    "grid_search_rl = GridSearchCV(estimator=clf_rl,param_grid=parametros_rl, scoring='accuracy',cv=kfold_rl)\n",
    "grid_search_rl = grid_search_rl.fit(X_train,y_train)\n",
    "mostra_hora()"
   ],
   "id": "8afe79a2f5b3ebc4",
   "outputs": [
    {
     "name": "stdout",
     "output_type": "stream",
     "text": [
      "22:28:20\n",
      "22:28:26\n"
     ]
    }
   ],
   "execution_count": 170
  },
  {
   "metadata": {
    "ExecuteTime": {
     "end_time": "2025-07-16T01:32:04.129064Z",
     "start_time": "2025-07-16T01:28:26.904158Z"
    }
   },
   "cell_type": "code",
   "source": [
    "# RandomForest\n",
    "mostra_hora()\n",
    "kfold_rf = KFold(shuffle=True, random_state=42,n_splits=8)\n",
    "grid_search_rf = GridSearchCV(estimator=clf_rf,param_grid=parametros_rf,scoring='accuracy',cv=kfold_rf)\n",
    "grid_search_rf = grid_search_rf.fit(X_train,y_train)\n",
    "mostra_hora()"
   ],
   "id": "912608d14d890e7",
   "outputs": [
    {
     "name": "stdout",
     "output_type": "stream",
     "text": [
      "22:28:26\n",
      "22:32:4\n"
     ]
    }
   ],
   "execution_count": 171
  },
  {
   "metadata": {
    "ExecuteTime": {
     "end_time": "2025-07-16T01:36:32.052875Z",
     "start_time": "2025-07-16T01:32:04.168216Z"
    }
   },
   "cell_type": "code",
   "source": [
    "# MLPClassifier\n",
    "mostra_hora()\n",
    "kfold_mlp = KFold(shuffle=True, random_state=42,n_splits=8)\n",
    "grid_search_mlp = GridSearchCV(estimator=clf_mlp,param_grid=parametros_mlp,scoring='accuracy',cv=kfold_mlp)\n",
    "grid_search_mlp = grid_search_mlp.fit(X_train,y_train)\n",
    "mostra_hora()"
   ],
   "id": "773badf5a5b2a91",
   "outputs": [
    {
     "name": "stdout",
     "output_type": "stream",
     "text": [
      "22:32:4\n",
      "22:36:32\n"
     ]
    }
   ],
   "execution_count": 172
  },
  {
   "metadata": {},
   "cell_type": "markdown",
   "source": "### Acurácia",
   "id": "c4c110869fc26e40"
  },
  {
   "metadata": {
    "ExecuteTime": {
     "end_time": "2025-07-16T01:36:32.106146Z",
     "start_time": "2025-07-16T01:36:32.100058Z"
    }
   },
   "cell_type": "code",
   "source": [
    "reg_log = grid_search_rl.best_score_\n",
    "rand_forest = grid_search_rf.best_score_\n",
    "mlp = grid_search_mlp.best_score_\n",
    "\n",
    "acuracia = pd.DataFrame({\n",
    "    'Modelos':['Regressão Logística', 'Random Forest', 'MLP'],\n",
    "    'Acurácia':[reg_log,rand_forest,mlp]\n",
    "})\n",
    "\n",
    "acuracia"
   ],
   "id": "428a09911c2f1fe1",
   "outputs": [
    {
     "data": {
      "text/plain": [
       "               Modelos  Acurácia\n",
       "0  Regressão Logística  0.806180\n",
       "1        Random Forest  0.834270\n",
       "2                  MLP  0.817416"
      ],
      "text/html": [
       "<div>\n",
       "<style scoped>\n",
       "    .dataframe tbody tr th:only-of-type {\n",
       "        vertical-align: middle;\n",
       "    }\n",
       "\n",
       "    .dataframe tbody tr th {\n",
       "        vertical-align: top;\n",
       "    }\n",
       "\n",
       "    .dataframe thead th {\n",
       "        text-align: right;\n",
       "    }\n",
       "</style>\n",
       "<table border=\"1\" class=\"dataframe\">\n",
       "  <thead>\n",
       "    <tr style=\"text-align: right;\">\n",
       "      <th></th>\n",
       "      <th>Modelos</th>\n",
       "      <th>Acurácia</th>\n",
       "    </tr>\n",
       "  </thead>\n",
       "  <tbody>\n",
       "    <tr>\n",
       "      <th>0</th>\n",
       "      <td>Regressão Logística</td>\n",
       "      <td>0.806180</td>\n",
       "    </tr>\n",
       "    <tr>\n",
       "      <th>1</th>\n",
       "      <td>Random Forest</td>\n",
       "      <td>0.834270</td>\n",
       "    </tr>\n",
       "    <tr>\n",
       "      <th>2</th>\n",
       "      <td>MLP</td>\n",
       "      <td>0.817416</td>\n",
       "    </tr>\n",
       "  </tbody>\n",
       "</table>\n",
       "</div>"
      ]
     },
     "execution_count": 173,
     "metadata": {},
     "output_type": "execute_result"
    }
   ],
   "execution_count": 173
  },
  {
   "metadata": {},
   "cell_type": "markdown",
   "source": "### Melhores parâmetros",
   "id": "90779e44535591bc"
  },
  {
   "metadata": {
    "ExecuteTime": {
     "end_time": "2025-07-16T01:36:32.172370Z",
     "start_time": "2025-07-16T01:36:32.168609Z"
    }
   },
   "cell_type": "code",
   "source": [
    "# Regressão logística\n",
    "grid_search_rl.best_params_"
   ],
   "id": "9d3d338ff7774e1e",
   "outputs": [
    {
     "data": {
      "text/plain": [
       "{'C': 0.1, 'max_iter': 1000, 'penalty': 'l2', 'solver': 'saga'}"
      ]
     },
     "execution_count": 174,
     "metadata": {},
     "output_type": "execute_result"
    }
   ],
   "execution_count": 174
  },
  {
   "metadata": {
    "ExecuteTime": {
     "end_time": "2025-07-16T01:36:32.296513Z",
     "start_time": "2025-07-16T01:36:32.291781Z"
    }
   },
   "cell_type": "code",
   "source": [
    "# RandomForest\n",
    "grid_search_rf.best_params_"
   ],
   "id": "fc62c8b3e4bedbd5",
   "outputs": [
    {
     "data": {
      "text/plain": [
       "{'criterion': 'gini', 'max_depth': 6, 'max_features': None, 'n_estimators': 30}"
      ]
     },
     "execution_count": 175,
     "metadata": {},
     "output_type": "execute_result"
    }
   ],
   "execution_count": 175
  },
  {
   "metadata": {
    "ExecuteTime": {
     "end_time": "2025-07-16T01:36:32.383478Z",
     "start_time": "2025-07-16T01:36:32.380100Z"
    }
   },
   "cell_type": "code",
   "source": [
    "# MLPClassifier\n",
    "grid_search_mlp.best_params_"
   ],
   "id": "b0959f34df79a4e3",
   "outputs": [
    {
     "data": {
      "text/plain": [
       "{'alpha': 0.1, 'max_iter': 500, 'solver': 'adam'}"
      ]
     },
     "execution_count": 176,
     "metadata": {},
     "output_type": "execute_result"
    }
   ],
   "execution_count": 176
  },
  {
   "metadata": {},
   "cell_type": "markdown",
   "source": [
    "### Exportação Kaggle\n",
    "O Random Forest com os parâmetros:</br>\n",
    "{'criterion': 'gini', 'max_depth': 6, 'max_features': None, 'n_estimators': 30}</br>\n",
    "Apresentou o maior valor para a acurácia.</br>\n",
    "Logo, será escolhido para enviar a resolução ao Kaggle."
   ],
   "id": "a7bfbfe6172b346d"
  },
  {
   "metadata": {
    "ExecuteTime": {
     "end_time": "2025-07-16T01:36:32.483567Z",
     "start_time": "2025-07-16T01:36:32.441028Z"
    }
   },
   "cell_type": "code",
   "source": [
    "rf_model = RandomForestClassifier(\n",
    "                                    criterion='gini',\n",
    "                                    max_depth=6,\n",
    "                                    max_features=None,\n",
    "                                    n_estimators=30,\n",
    "                                    random_state=42\n",
    "                                )\n",
    "rf_model = rf_model.fit(X_train, y_train)"
   ],
   "id": "be5bad7c2e12d391",
   "outputs": [],
   "execution_count": 177
  },
  {
   "metadata": {
    "ExecuteTime": {
     "end_time": "2025-07-16T01:46:58.093347Z",
     "start_time": "2025-07-16T01:46:58.082122Z"
    }
   },
   "cell_type": "code",
   "source": [
    "df_desafio = pd.DataFrame()\n",
    "df_desafio['PassengerId'] = test['PassengerId']\n",
    "X_test = test.drop(['PassengerId'], axis = 1)\n",
    "y_pred = rf_model.predict(X_test)\n",
    "df_desafio['Survived'] = y_pred\n",
    "\n",
    "df_desafio.to_csv('Export/tuning.csv', index = False)"
   ],
   "id": "46623e8ae33548ae",
   "outputs": [],
   "execution_count": 179
  },
  {
   "metadata": {},
   "cell_type": "markdown",
   "source": [
    "<img src=\"IMG/im6.png\" width=\"500\" height=\"800\">\n",
    "\n",
    "Random forest com melhores parâmetros apresenta o maior resultado obtido."
   ],
   "id": "c4905927e1b922ae"
  },
  {
   "metadata": {},
   "cell_type": "code",
   "outputs": [],
   "execution_count": null,
   "source": "",
   "id": "8af94e8d58fa37c5"
  }
 ],
 "metadata": {
  "kernelspec": {
   "display_name": "Python 3",
   "language": "python",
   "name": "python3"
  },
  "language_info": {
   "codemirror_mode": {
    "name": "ipython",
    "version": 2
   },
   "file_extension": ".py",
   "mimetype": "text/x-python",
   "name": "python",
   "nbconvert_exporter": "python",
   "pygments_lexer": "ipython2",
   "version": "2.7.6"
  }
 },
 "nbformat": 4,
 "nbformat_minor": 5
}
